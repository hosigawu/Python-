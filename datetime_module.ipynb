{
  "nbformat": 4,
  "nbformat_minor": 0,
  "metadata": {
    "colab": {
      "name": "datetime module.ipynb",
      "provenance": [],
      "authorship_tag": "ABX9TyPx5Gqjojns8G0vrAnwlaeE",
      "include_colab_link": true
    },
    "kernelspec": {
      "name": "python3",
      "display_name": "Python 3"
    },
    "language_info": {
      "name": "python"
    }
  },
  "cells": [
    {
      "cell_type": "markdown",
      "metadata": {
        "id": "view-in-github",
        "colab_type": "text"
      },
      "source": [
        "<a href=\"https://colab.research.google.com/github/hosigawu/Python-/blob/main/datetime_module.ipynb\" target=\"_parent\"><img src=\"https://colab.research.google.com/assets/colab-badge.svg\" alt=\"Open In Colab\"/></a>"
      ]
    },
    {
      "cell_type": "code",
      "execution_count": 2,
      "metadata": {
        "id": "CoFuDkqCycME"
      },
      "outputs": [],
      "source": [
        "import datetime\n"
      ]
    },
    {
      "cell_type": "code",
      "source": [
        "birthday = datetime.date(1955,1,16)\n"
      ],
      "metadata": {
        "id": "vZBooTlcyhVd"
      },
      "execution_count": 3,
      "outputs": []
    },
    {
      "cell_type": "code",
      "source": [
        "print(birthday.year)"
      ],
      "metadata": {
        "colab": {
          "base_uri": "https://localhost:8080/"
        },
        "id": "PdwVlrFNytrv",
        "outputId": "d20163d8-3e7c-4946-ae0c-218a50da0000"
      },
      "execution_count": 5,
      "outputs": [
        {
          "output_type": "stream",
          "name": "stdout",
          "text": [
            "1955\n"
          ]
        }
      ]
    },
    {
      "cell_type": "code",
      "source": [
        "print(birthday.month)"
      ],
      "metadata": {
        "colab": {
          "base_uri": "https://localhost:8080/"
        },
        "id": "1CuyZYq2y-rU",
        "outputId": "82fe06ae-4248-4cf2-e174-0dd47cf4c69e"
      },
      "execution_count": 6,
      "outputs": [
        {
          "output_type": "stream",
          "name": "stdout",
          "text": [
            "1\n"
          ]
        }
      ]
    },
    {
      "cell_type": "code",
      "source": [
        "print(birthday.day)"
      ],
      "metadata": {
        "id": "z_s4yUS_zB1v",
        "outputId": "b80104c7-960e-4606-9ea6-9a0bfe33312c",
        "colab": {
          "base_uri": "https://localhost:8080/"
        }
      },
      "execution_count": 7,
      "outputs": [
        {
          "output_type": "stream",
          "name": "stdout",
          "text": [
            "16\n"
          ]
        }
      ]
    }
  ]
}