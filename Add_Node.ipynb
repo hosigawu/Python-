{
  "nbformat": 4,
  "nbformat_minor": 0,
  "metadata": {
    "colab": {
      "name": "Add_Node.ipynb",
      "provenance": [],
      "authorship_tag": "ABX9TyM6EO3+r03YahuKe7VvMZmp",
      "include_colab_link": true
    },
    "kernelspec": {
      "name": "python3",
      "display_name": "Python 3"
    },
    "language_info": {
      "name": "python"
    }
  },
  "cells": [
    {
      "cell_type": "markdown",
      "metadata": {
        "id": "view-in-github",
        "colab_type": "text"
      },
      "source": [
        "<a href=\"https://colab.research.google.com/github/hosigawu/Python-/blob/main/Add_Node.ipynb\" target=\"_parent\"><img src=\"https://colab.research.google.com/assets/colab-badge.svg\" alt=\"Open In Colab\"/></a>"
      ]
    },
    {
      "cell_type": "code",
      "execution_count": 1,
      "metadata": {
        "id": "wwSKKhsNJTyh"
      },
      "outputs": [],
      "source": [
        "adj_list = {}\n",
        "mylist = []\n",
        "def add_node(node):\n",
        "  if node not in mylist:\n",
        "    mylist.append(node)\n",
        "  else:\n",
        "    print(\"Node \",node,\" already exists!\")"
      ]
    },
    {
      "cell_type": "code",
      "source": [
        "add_node(0)\n",
        "add_node(1)\n",
        "add_node(2)\n",
        "add_node(3)\n",
        "add_node(4)\n"
      ],
      "metadata": {
        "id": "qm7VALDcJWLT"
      },
      "execution_count": 2,
      "outputs": []
    },
    {
      "cell_type": "code",
      "source": [
        "print(mylist)"
      ],
      "metadata": {
        "colab": {
          "base_uri": "https://localhost:8080/"
        },
        "id": "zbYoV6x5JxQG",
        "outputId": "f30278f3-d769-4700-f8ba-51ea8e026f80"
      },
      "execution_count": 3,
      "outputs": [
        {
          "output_type": "stream",
          "name": "stdout",
          "text": [
            "[0, 1, 2, 3, 4]\n"
          ]
        }
      ]
    },
    {
      "cell_type": "code",
      "source": [
        "add_node(4)"
      ],
      "metadata": {
        "colab": {
          "base_uri": "https://localhost:8080/"
        },
        "id": "hcyzYclcJ58b",
        "outputId": "d822624b-94fd-4806-c8cf-b86514726254"
      },
      "execution_count": 4,
      "outputs": [
        {
          "output_type": "stream",
          "name": "stdout",
          "text": [
            "Node  4  already exists!\n"
          ]
        }
      ]
    }
  ]
}