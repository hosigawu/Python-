{
  "nbformat": 4,
  "nbformat_minor": 0,
  "metadata": {
    "colab": {
      "name": "PythonExtend.ipynb",
      "provenance": [],
      "authorship_tag": "ABX9TyP+TedZG9ScXRZWTg4Mp1K8",
      "include_colab_link": true
    },
    "kernelspec": {
      "name": "python3",
      "display_name": "Python 3"
    },
    "language_info": {
      "name": "python"
    }
  },
  "cells": [
    {
      "cell_type": "markdown",
      "metadata": {
        "id": "view-in-github",
        "colab_type": "text"
      },
      "source": [
        "<a href=\"https://colab.research.google.com/github/hosigawu/Python-/blob/main/PythonExtend.ipynb\" target=\"_parent\"><img src=\"https://colab.research.google.com/assets/colab-badge.svg\" alt=\"Open In Colab\"/></a>"
      ]
    },
    {
      "cell_type": "code",
      "execution_count": 1,
      "metadata": {
        "colab": {
          "base_uri": "https://localhost:8080/"
        },
        "id": "lDxClMNdEhx6",
        "outputId": "9317412c-fd33-4bde-e7af-b3bb23d0098b"
      },
      "outputs": [
        {
          "output_type": "stream",
          "name": "stdout",
          "text": [
            "List after extend(): [1, 4, 2, 3, 5]\n"
          ]
        }
      ],
      "source": [
        "# create a list\n",
        "prime_numbers = [2, 3, 5]\n",
        "\n",
        "# create another list\n",
        "numbers = [1, 4]\n",
        "\n",
        "# add all elements of prime_numbers to numbers\n",
        "numbers.extend(prime_numbers)\n",
        "\n",
        "\n",
        "print('List after extend():', numbers)\n",
        "\n",
        "# Output: List after extend(): [1, 4, 2, 3, 5]"
      ]
    },
    {
      "cell_type": "code",
      "source": [
        "a = [\"apple\", \"banana\", \"cherry\"]\n",
        "\n",
        "b = [\"Ford\", \"BMW\", \"Volvo\"]\n",
        "\n",
        "a.extend(b)\n",
        "\n",
        "print(a)\n"
      ],
      "metadata": {
        "colab": {
          "base_uri": "https://localhost:8080/"
        },
        "id": "WfkcBoXFE-ib",
        "outputId": "98ca8487-d582-41ae-97ed-8be39b313858"
      },
      "execution_count": 2,
      "outputs": [
        {
          "output_type": "stream",
          "name": "stdout",
          "text": [
            "['apple', 'banana', 'cherry', 'Ford', 'BMW', 'Volvo']\n"
          ]
        }
      ]
    }
  ]
}