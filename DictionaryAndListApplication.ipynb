{
  "nbformat": 4,
  "nbformat_minor": 0,
  "metadata": {
    "colab": {
      "name": "DictionaryAndListApplication.ipynb",
      "provenance": [],
      "authorship_tag": "ABX9TyPf6YTQp2SOccnuZluo61nh",
      "include_colab_link": true
    },
    "kernelspec": {
      "name": "python3",
      "display_name": "Python 3"
    },
    "language_info": {
      "name": "python"
    }
  },
  "cells": [
    {
      "cell_type": "markdown",
      "metadata": {
        "id": "view-in-github",
        "colab_type": "text"
      },
      "source": [
        "<a href=\"https://colab.research.google.com/github/hosigawu/Python-/blob/main/DictionaryAndListApplication.ipynb\" target=\"_parent\"><img src=\"https://colab.research.google.com/assets/colab-badge.svg\" alt=\"Open In Colab\"/></a>"
      ]
    },
    {
      "cell_type": "code",
      "execution_count": 7,
      "metadata": {
        "id": "ZV1cziv4dafu"
      },
      "outputs": [],
      "source": [
        "dic = {}\n",
        "\n",
        "def add(a,b):\n",
        "  ls = []\n",
        "  x = a+b\n",
        "  ls.append(x)\n",
        "  ls.append(a)\n",
        "  ls.append(b)\n",
        "  dic[a]=ls\n",
        "\n",
        "\n"
      ]
    },
    {
      "cell_type": "code",
      "source": [
        "add(3,5)"
      ],
      "metadata": {
        "id": "OjZiEb8Xd6np"
      },
      "execution_count": 8,
      "outputs": []
    },
    {
      "cell_type": "code",
      "source": [
        "print(dic)"
      ],
      "metadata": {
        "colab": {
          "base_uri": "https://localhost:8080/"
        },
        "id": "8YbSTG3TeH2N",
        "outputId": "07a8544a-8a34-43cb-c199-5df0460b31ba"
      },
      "execution_count": 9,
      "outputs": [
        {
          "output_type": "stream",
          "name": "stdout",
          "text": [
            "{3: [8, 3, 5]}\n"
          ]
        }
      ]
    },
    {
      "cell_type": "code",
      "source": [
        "add(5,7)"
      ],
      "metadata": {
        "id": "A_VD03GceWF2"
      },
      "execution_count": 10,
      "outputs": []
    },
    {
      "cell_type": "code",
      "source": [
        "print(dic)"
      ],
      "metadata": {
        "colab": {
          "base_uri": "https://localhost:8080/"
        },
        "id": "ngfk8_K0eYre",
        "outputId": "09ac4b24-aa16-414e-9d29-5f896becddb9"
      },
      "execution_count": 11,
      "outputs": [
        {
          "output_type": "stream",
          "name": "stdout",
          "text": [
            "{3: [8, 3, 5], 5: [12, 5, 7]}\n"
          ]
        }
      ]
    }
  ]
}