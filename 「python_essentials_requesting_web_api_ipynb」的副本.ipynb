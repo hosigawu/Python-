{
  "nbformat": 4,
  "nbformat_minor": 0,
  "metadata": {
    "colab": {
      "name": "「python-essentials-requesting-web-api.ipynb」的副本",
      "provenance": [],
      "include_colab_link": true
    },
    "kernelspec": {
      "name": "python3",
      "display_name": "Python 3"
    }
  },
  "cells": [
    {
      "cell_type": "markdown",
      "metadata": {
        "id": "view-in-github",
        "colab_type": "text"
      },
      "source": [
        "<a href=\"https://colab.research.google.com/github/hosigawu/Python-/blob/main/%E3%80%8Cpython_essentials_requesting_web_api_ipynb%E3%80%8D%E7%9A%84%E5%89%AF%E6%9C%AC.ipynb\" target=\"_parent\"><img src=\"https://colab.research.google.com/assets/colab-badge.svg\" alt=\"Open In Colab\"/></a>"
      ]
    },
    {
      "metadata": {
        "id": "yaiiagJiVjci",
        "colab": {
          "base_uri": "https://localhost:8080/",
          "height": 348
        },
        "outputId": "2de0c9fb-b922-4e09-bfc5-4461311aba9f"
      },
      "cell_type": "code",
      "source": [
        "# 安裝 requests, lxml, pandas\n",
        "pip install -U requests lxml pandas"
      ],
      "execution_count": null,
      "outputs": [
        {
          "output_type": "stream",
          "text": [
            "Requirement already up-to-date: requests in /usr/local/lib/python3.6/dist-packages (2.21.0)\n",
            "Collecting lxml\n",
            "\u001b[?25l  Downloading https://files.pythonhosted.org/packages/35/8a/5e066949f2b40caac32c7b2a77da63ad304b5fbe869036cc3fe4a198f724/lxml-4.3.3-cp36-cp36m-manylinux1_x86_64.whl (5.7MB)\n",
            "\u001b[K    100% |████████████████████████████████| 5.7MB 6.5MB/s \n",
            "\u001b[?25hRequirement already up-to-date: pandas in /usr/local/lib/python3.6/dist-packages (0.24.2)\n",
            "Requirement already satisfied, skipping upgrade: urllib3<1.25,>=1.21.1 in /usr/local/lib/python3.6/dist-packages (from requests) (1.24.2)\n",
            "Requirement already satisfied, skipping upgrade: idna<2.9,>=2.5 in /usr/local/lib/python3.6/dist-packages (from requests) (2.8)\n",
            "Requirement already satisfied, skipping upgrade: chardet<3.1.0,>=3.0.2 in /usr/local/lib/python3.6/dist-packages (from requests) (3.0.4)\n",
            "Requirement already satisfied, skipping upgrade: certifi>=2017.4.17 in /usr/local/lib/python3.6/dist-packages (from requests) (2019.3.9)\n",
            "Requirement already satisfied, skipping upgrade: numpy>=1.12.0 in /usr/local/lib/python3.6/dist-packages (from pandas) (1.16.3)\n",
            "Requirement already satisfied, skipping upgrade: python-dateutil>=2.5.0 in /usr/local/lib/python3.6/dist-packages (from pandas) (2.5.3)\n",
            "Requirement already satisfied, skipping upgrade: pytz>=2011k in /usr/local/lib/python3.6/dist-packages (from pandas) (2018.9)\n",
            "Requirement already satisfied, skipping upgrade: six>=1.5 in /usr/local/lib/python3.6/dist-packages (from python-dateutil>=2.5.0->pandas) (1.12.0)\n",
            "Installing collected packages: lxml\n",
            "  Found existing installation: lxml 4.2.6\n",
            "    Uninstalling lxml-4.2.6:\n",
            "      Successfully uninstalled lxml-4.2.6\n",
            "Successfully installed lxml-4.3.3\n"
          ],
          "name": "stdout"
        }
      ]
    },
    {
      "cell_type": "code",
      "source": [
        ""
      ],
      "metadata": {
        "id": "OXhyTpiio_87"
      },
      "execution_count": null,
      "outputs": []
    },
    {
      "metadata": {
        "id": "RPOwk9HTV1TU",
        "colab": {
          "base_uri": "https://localhost:8080/",
          "height": 89
        },
        "outputId": "77f977e6-6ad6-45a6-9d7b-b5ae35ffe086"
      },
      "cell_type": "code",
      "source": [
        "import requests\n",
        "\n",
        "r = requests.get(\"https://opendata.epa.gov.tw/ws/Data/AQI/?$format=json\", verify=False)\n",
        "print(r.status_code)"
      ],
      "execution_count": null,
      "outputs": [
        {
          "output_type": "stream",
          "text": [
            "/usr/local/lib/python3.6/dist-packages/urllib3/connectionpool.py:847: InsecureRequestWarning: Unverified HTTPS request is being made. Adding certificate verification is strongly advised. See: https://urllib3.readthedocs.io/en/latest/advanced-usage.html#ssl-warnings\n",
            "  InsecureRequestWarning)\n"
          ],
          "name": "stderr"
        },
        {
          "output_type": "stream",
          "text": [
            "200\n"
          ],
          "name": "stdout"
        }
      ]
    },
    {
      "metadata": {
        "id": "wCMc8XeOhsza",
        "colab": {
          "base_uri": "https://localhost:8080/",
          "height": 1523
        },
        "outputId": "ed65e35c-ddb0-42f4-9706-6a389dc974f5"
      },
      "cell_type": "code",
      "source": [
        "import requests\n",
        "\n",
        "r = requests.get(\"https://opendata.epa.gov.tw/ws/Data/AQI/?$format=json\", verify=False)\n",
        "list_of_dicts = r.json()\n",
        "print(type(r))\n",
        "print(type(list_of_dicts))\n",
        "for i in list_of_dicts:\n",
        "    print(i[\"County\"], i[\"SiteName\"], i[\"PM2.5\"])"
      ],
      "execution_count": null,
      "outputs": [
        {
          "output_type": "stream",
          "text": [
            "/usr/local/lib/python3.6/dist-packages/urllib3/connectionpool.py:847: InsecureRequestWarning: Unverified HTTPS request is being made. Adding certificate verification is strongly advised. See: https://urllib3.readthedocs.io/en/latest/advanced-usage.html#ssl-warnings\n",
            "  InsecureRequestWarning)\n"
          ],
          "name": "stderr"
        },
        {
          "output_type": "stream",
          "text": [
            "<class 'requests.models.Response'>\n",
            "<class 'list'>\n",
            "臺南市 安南 19\n",
            "屏東縣 屏東(琉球) 8\n",
            "苗栗縣 苗栗(後龍) 19\n",
            "彰化縣 彰化(大城) 15\n",
            "臺南市 臺南(北門) 12\n",
            "新北市 富貴角 12\n",
            "雲林縣 麥寮 5\n",
            "臺東縣 關山 20\n",
            "澎湖縣 馬公 9\n",
            "金門縣 金門 20\n",
            "連江縣 馬祖 8\n",
            "南投縣 埔里 \n",
            "高雄市 復興 4\n",
            "新北市 永和 18\n",
            "南投縣 竹山 13\n",
            "桃園市 中壢 22\n",
            "新北市 三重 24\n",
            "宜蘭縣 冬山 15\n",
            "宜蘭縣 宜蘭 19\n",
            "臺北市 陽明 12\n",
            "花蓮縣 花蓮 10\n",
            "臺東縣 臺東 \n",
            "屏東縣 恆春 9\n",
            "屏東縣 潮州 15\n",
            "屏東縣 屏東 22\n",
            "高雄市 小港 10\n",
            "高雄市 前鎮 7\n",
            "高雄市 前金 13\n",
            "高雄市 左營 \n",
            "高雄市 楠梓 23\n",
            "高雄市 林園 8\n",
            "高雄市 大寮 25\n",
            "高雄市 鳳山 18\n",
            "高雄市 仁武 15\n",
            "高雄市 橋頭 14\n",
            "高雄市 美濃 8\n",
            "臺南市 臺南 18\n",
            "臺南市 安南 19\n",
            "臺南市 善化 20\n",
            "臺南市 新營 8\n",
            "嘉義市 嘉義 28\n",
            "雲林縣 臺西 26\n",
            "嘉義縣 朴子 11\n",
            "嘉義縣 新港 17\n",
            "雲林縣 崙背 15\n",
            "雲林縣 斗六 25\n",
            "南投縣 南投 18\n",
            "彰化縣 二林 21\n",
            "彰化縣 線西 11\n",
            "彰化縣 彰化 16\n",
            "臺中市 西屯 16\n",
            "臺中市 忠明 18\n",
            "臺中市 大里 14\n",
            "臺中市 沙鹿 10\n",
            "臺中市 豐原 13\n",
            "苗栗縣 三義 14\n",
            "苗栗縣 苗栗 17\n",
            "苗栗縣 頭份 9\n",
            "新竹市 新竹 13\n",
            "新竹縣 竹東 11\n",
            "新竹縣 湖口 15\n",
            "桃園市 龍潭 27\n",
            "桃園市 平鎮 25\n",
            "桃園市 觀音 11\n",
            "桃園市 大園 19\n",
            "桃園市 桃園 27\n",
            "臺北市 大同 23\n",
            "臺北市 松山 36\n",
            "臺北市 古亭 21\n",
            "臺北市 萬華 25\n",
            "臺北市 中山 23\n",
            "臺北市 士林 17\n",
            "新北市 淡水 18\n",
            "新北市 林口 12\n",
            "新北市 菜寮 19\n",
            "新北市 新莊 15\n",
            "新北市 板橋 16\n",
            "新北市 土城 18\n",
            "新北市 新店 21\n",
            "新北市 萬里 27\n",
            "新北市 汐止 24\n",
            "基隆市 基隆 24\n"
          ],
          "name": "stdout"
        }
      ]
    },
    {
      "metadata": {
        "id": "kK3viA6Ue4wM",
        "colab": {
          "base_uri": "https://localhost:8080/",
          "height": 1505
        },
        "outputId": "b28ecd97-34d4-4531-898e-269ca87a739f"
      },
      "cell_type": "code",
      "source": [
        "import requests\n",
        "from lxml import etree\n",
        "from io import BytesIO\n",
        "\n",
        "r = requests.get(\"https://opendata.epa.gov.tw/ws/Data/AQI/?$format=xml\", verify=False)\n",
        "xml_bytes = r.content\n",
        "f = BytesIO(xml_bytes)\n",
        "tree = etree.parse(f)\n",
        "counties = [t.text for t in tree.xpath(\"/AQI/Data/County\")]\n",
        "site_names = [t.text for t in tree.xpath(\"/AQI/Data/SiteName\")]\n",
        "pm25 = [t.text for t in tree.xpath(\"/AQI/Data/PM2.5\")]\n",
        "print(type(xml_bytes))\n",
        "for c, s, p in zip(counties, site_names, pm25):\n",
        "    print(c, s, p)"
      ],
      "execution_count": null,
      "outputs": [
        {
          "output_type": "stream",
          "text": [
            "/usr/local/lib/python3.6/dist-packages/urllib3/connectionpool.py:847: InsecureRequestWarning: Unverified HTTPS request is being made. Adding certificate verification is strongly advised. See: https://urllib3.readthedocs.io/en/latest/advanced-usage.html#ssl-warnings\n",
            "  InsecureRequestWarning)\n"
          ],
          "name": "stderr"
        },
        {
          "output_type": "stream",
          "text": [
            "<class 'bytes'>\n",
            "臺南市 安南 19\n",
            "屏東縣 屏東(琉球) 8\n",
            "苗栗縣 苗栗(後龍) 19\n",
            "彰化縣 彰化(大城) 15\n",
            "臺南市 臺南(北門) 12\n",
            "新北市 富貴角 12\n",
            "雲林縣 麥寮 5\n",
            "臺東縣 關山 20\n",
            "澎湖縣 馬公 9\n",
            "金門縣 金門 20\n",
            "連江縣 馬祖 8\n",
            "南投縣 埔里 None\n",
            "高雄市 復興 4\n",
            "新北市 永和 18\n",
            "南投縣 竹山 13\n",
            "桃園市 中壢 22\n",
            "新北市 三重 24\n",
            "宜蘭縣 冬山 15\n",
            "宜蘭縣 宜蘭 19\n",
            "臺北市 陽明 12\n",
            "花蓮縣 花蓮 10\n",
            "臺東縣 臺東 None\n",
            "屏東縣 恆春 9\n",
            "屏東縣 潮州 15\n",
            "屏東縣 屏東 22\n",
            "高雄市 小港 10\n",
            "高雄市 前鎮 7\n",
            "高雄市 前金 13\n",
            "高雄市 左營 None\n",
            "高雄市 楠梓 23\n",
            "高雄市 林園 8\n",
            "高雄市 大寮 25\n",
            "高雄市 鳳山 18\n",
            "高雄市 仁武 15\n",
            "高雄市 橋頭 14\n",
            "高雄市 美濃 8\n",
            "臺南市 臺南 18\n",
            "臺南市 安南 19\n",
            "臺南市 善化 20\n",
            "臺南市 新營 8\n",
            "嘉義市 嘉義 28\n",
            "雲林縣 臺西 26\n",
            "嘉義縣 朴子 11\n",
            "嘉義縣 新港 17\n",
            "雲林縣 崙背 15\n",
            "雲林縣 斗六 25\n",
            "南投縣 南投 18\n",
            "彰化縣 二林 21\n",
            "彰化縣 線西 11\n",
            "彰化縣 彰化 16\n",
            "臺中市 西屯 16\n",
            "臺中市 忠明 18\n",
            "臺中市 大里 14\n",
            "臺中市 沙鹿 10\n",
            "臺中市 豐原 13\n",
            "苗栗縣 三義 14\n",
            "苗栗縣 苗栗 17\n",
            "苗栗縣 頭份 9\n",
            "新竹市 新竹 13\n",
            "新竹縣 竹東 11\n",
            "新竹縣 湖口 15\n",
            "桃園市 龍潭 27\n",
            "桃園市 平鎮 25\n",
            "桃園市 觀音 11\n",
            "桃園市 大園 19\n",
            "桃園市 桃園 27\n",
            "臺北市 大同 23\n",
            "臺北市 松山 36\n",
            "臺北市 古亭 21\n",
            "臺北市 萬華 25\n",
            "臺北市 中山 23\n",
            "臺北市 士林 17\n",
            "新北市 淡水 18\n",
            "新北市 林口 12\n",
            "新北市 菜寮 19\n",
            "新北市 新莊 15\n",
            "新北市 板橋 16\n",
            "新北市 土城 18\n",
            "新北市 新店 21\n",
            "新北市 萬里 27\n",
            "新北市 汐止 24\n",
            "基隆市 基隆 24\n"
          ],
          "name": "stdout"
        }
      ]
    },
    {
      "metadata": {
        "id": "bwfd5vrBgmvR",
        "colab": {
          "base_uri": "https://localhost:8080/",
          "height": 72
        },
        "outputId": "0c76794d-bebb-4b9b-e9bf-31a35d1e899f"
      },
      "cell_type": "code",
      "source": [
        "import requests\n",
        "import pandas as pd\n",
        "import json\n",
        "\n",
        "r = requests.get(\"https://opendata.epa.gov.tw/ws/Data/AQI/?$format=json\", verify=False)\n",
        "list_of_dicts = r.json()\n",
        "counties = [i[\"County\"] for i in list_of_dicts]\n",
        "site_names = [i[\"SiteName\"] for i in list_of_dicts]\n",
        "pm25 = [i[\"PM2.5\"] for i in list_of_dicts]\n",
        "aqi_dict = {\n",
        "    \"county\": counties,\n",
        "    \"siteName\": site_names,\n",
        "    \"pm2.5\": pm25\n",
        "}\n",
        "df = pd.DataFrame(aqi_dict)\n",
        "df.to_csv(\"aqi.csv\", index=False)\n",
        "with open(\"aqi.json\", \"w\") as f:\n",
        "    json.dump(aqi_dict, f, ensure_ascii=False)"
      ],
      "execution_count": null,
      "outputs": [
        {
          "output_type": "stream",
          "text": [
            "/usr/local/lib/python3.6/dist-packages/urllib3/connectionpool.py:847: InsecureRequestWarning: Unverified HTTPS request is being made. Adding certificate verification is strongly advised. See: https://urllib3.readthedocs.io/en/latest/advanced-usage.html#ssl-warnings\n",
            "  InsecureRequestWarning)\n"
          ],
          "name": "stderr"
        }
      ]
    },
    {
      "metadata": {
        "id": "y2TTTs1qoN5Y",
        "colab": {
          "base_uri": "https://localhost:8080/",
          "height": 35
        },
        "outputId": "12544d7f-f9e9-4557-cf06-de9f3e62f88f"
      },
      "cell_type": "code",
      "source": [
        "!ls"
      ],
      "execution_count": null,
      "outputs": [
        {
          "output_type": "stream",
          "text": [
            "aqi.csv  aqi.json  sample_data\n"
          ],
          "name": "stdout"
        }
      ]
    },
    {
      "metadata": {
        "id": "e4geD-ruoRII"
      },
      "cell_type": "code",
      "source": [
        "from google.colab import files\n",
        "\n",
        "files.download(\"aqi.csv\")\n",
        "files.download(\"aqi.json\")"
      ],
      "execution_count": null,
      "outputs": []
    }
  ]
}