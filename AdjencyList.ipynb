{
  "nbformat": 4,
  "nbformat_minor": 0,
  "metadata": {
    "colab": {
      "name": "AdjencyList.ipynb",
      "provenance": [],
      "authorship_tag": "ABX9TyNXOg+tMfwCXTy3xV8oVnjz",
      "include_colab_link": true
    },
    "kernelspec": {
      "name": "python3",
      "display_name": "Python 3"
    },
    "language_info": {
      "name": "python"
    }
  },
  "cells": [
    {
      "cell_type": "markdown",
      "metadata": {
        "id": "view-in-github",
        "colab_type": "text"
      },
      "source": [
        "<a href=\"https://colab.research.google.com/github/hosigawu/Python-/blob/main/AdjencyList.ipynb\" target=\"_parent\"><img src=\"https://colab.research.google.com/assets/colab-badge.svg\" alt=\"Open In Colab\"/></a>"
      ]
    },
    {
      "cell_type": "code",
      "execution_count": 1,
      "metadata": {
        "colab": {
          "base_uri": "https://localhost:8080/"
        },
        "id": "oD3W_-lth-ZN",
        "outputId": "789239b6-34ff-452a-b2d6-991ff5586201"
      },
      "outputs": [
        {
          "output_type": "stream",
          "name": "stdout",
          "text": [
            "0  --->  [1]\n",
            "1  --->  [2]\n",
            "2  --->  [3]\n",
            "3  --->  [0, 4]\n",
            "4  --->  [0]\n",
            "{0: [1], 1: [2], 2: [3], 3: [0, 4], 4: [0]}\n"
          ]
        }
      ],
      "source": [
        "adj_list = {}\n",
        "mylist = []\n",
        "def add_node(node):\n",
        "  if node not in mylist:\n",
        "    mylist.append(node)\n",
        "  else:\n",
        "    print(\"Node \",node,\" already exists!\")\n",
        " \n",
        "def add_edge(node1, node2):\n",
        "  temp = []\n",
        "  if node1 in mylist and node2 in mylist:\n",
        "    if node1 not in adj_list:\n",
        "      temp.append(node2)\n",
        "      adj_list[node1] = temp\n",
        "   \n",
        "    elif node1 in adj_list:\n",
        "      temp.extend(adj_list[node1])\n",
        "      temp.append(node2)\n",
        "      adj_list[node1] = temp\n",
        "       \n",
        "  else:\n",
        "    print(\"Nodes don't exist!\")\n",
        " \n",
        "def graph():\n",
        "  for node in adj_list:\n",
        "    print(node, \" ---> \", [i for i in adj_list[node]])\n",
        " \n",
        "#Adding nodes\n",
        "add_node(0)\n",
        "add_node(1)\n",
        "add_node(2)\n",
        "add_node(3)\n",
        "add_node(4)\n",
        "#Adding edges\n",
        "add_edge(0,1)\n",
        "add_edge(1,2)\n",
        "add_edge(2,3)\n",
        "add_edge(3,0)\n",
        "add_edge(3,4)\n",
        "add_edge(4,0)\n",
        " \n",
        "#Printing the graph\n",
        "graph()\n",
        " \n",
        "#Printing the adjacency list\n",
        "print(adj_list)"
      ]
    }
  ]
}