{
  "nbformat": 4,
  "nbformat_minor": 0,
  "metadata": {
    "colab": {
      "name": "Codility1.ipynb",
      "provenance": [],
      "authorship_tag": "ABX9TyMS8L/PMl5kEHreToidZmHq",
      "include_colab_link": true
    },
    "kernelspec": {
      "name": "python3",
      "display_name": "Python 3"
    },
    "language_info": {
      "name": "python"
    }
  },
  "cells": [
    {
      "cell_type": "markdown",
      "metadata": {
        "id": "view-in-github",
        "colab_type": "text"
      },
      "source": [
        "<a href=\"https://colab.research.google.com/github/hosigawu/Python-/blob/main/Codility1.ipynb\" target=\"_parent\"><img src=\"https://colab.research.google.com/assets/colab-badge.svg\" alt=\"Open In Colab\"/></a>"
      ]
    },
    {
      "cell_type": "markdown",
      "source": [
        "Write a function:\n",
        "\n",
        "def solution(A)\n",
        "\n",
        "that, given an array A of N integers, returns the smallest positive integer (greater than 0) that does not occur in A.\n",
        "\n",
        "For example, given A = [1, 3, 6, 4, 1, 2], the function should return 5.\n",
        "\n",
        "Given A = [1, 2, 3], the function should return 4.\n",
        "\n",
        "Given A = [−1, −3], the function should return 1.\n",
        "\n",
        "Write an efficient algorithm for the following assumptions:"
      ],
      "metadata": {
        "id": "XQBKHjdmRKSs"
      }
    },
    {
      "cell_type": "code",
      "execution_count": 1,
      "metadata": {
        "id": "7Z03nIerRIr_"
      },
      "outputs": [],
      "source": [
        "def solution(A):\n",
        "    B = set(sorted(A))\n",
        "    m = 1\n",
        "    for x in B:\n",
        "        if x == m:\n",
        "            m+=1\n",
        "\n",
        "    return m\n",
        "\n",
        "    # write your code in Python 3.6\n",
        "    pass"
      ]
    },
    {
      "cell_type": "markdown",
      "source": [
        ""
      ],
      "metadata": {
        "id": "4iPRtc1vRJRY"
      }
    }
  ]
}