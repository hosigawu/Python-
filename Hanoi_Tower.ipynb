{
  "nbformat": 4,
  "nbformat_minor": 0,
  "metadata": {
    "colab": {
      "name": "Hanoi Tower.ipynb",
      "provenance": [],
      "authorship_tag": "ABX9TyPa0RLxsmxwl+/vH3Tx6qUA",
      "include_colab_link": true
    },
    "kernelspec": {
      "name": "python3",
      "display_name": "Python 3"
    },
    "language_info": {
      "name": "python"
    }
  },
  "cells": [
    {
      "cell_type": "markdown",
      "metadata": {
        "id": "view-in-github",
        "colab_type": "text"
      },
      "source": [
        "<a href=\"https://colab.research.google.com/github/hosigawu/Python-/blob/main/Hanoi_Tower.ipynb\" target=\"_parent\"><img src=\"https://colab.research.google.com/assets/colab-badge.svg\" alt=\"Open In Colab\"/></a>"
      ]
    },
    {
      "cell_type": "code",
      "execution_count": 1,
      "metadata": {
        "colab": {
          "base_uri": "https://localhost:8080/"
        },
        "id": "hugmOpvoPSSZ",
        "outputId": "37ec14a6-f550-4a1d-cc79-1a12d9b4d8b8"
      },
      "outputs": [
        {
          "output_type": "stream",
          "name": "stdout",
          "text": [
            "Please enter integer:5\n",
            "move A to C\n",
            "move A to B\n",
            "move C to B\n",
            "move A to C\n",
            "move B to A\n",
            "move B to C\n",
            "move A to C\n",
            "move A to B\n",
            "move C to B\n",
            "move C to A\n",
            "move B to A\n",
            "move C to B\n",
            "move A to C\n",
            "move A to B\n",
            "move C to B\n",
            "move A to C\n",
            "move B to A\n",
            "move B to C\n",
            "move A to C\n",
            "move B to A\n",
            "move C to B\n",
            "move C to A\n",
            "move B to A\n",
            "move B to C\n",
            "move A to C\n",
            "move A to B\n",
            "move C to B\n",
            "move A to C\n",
            "move B to A\n",
            "move B to C\n",
            "move A to C\n"
          ]
        }
      ],
      "source": [
        "def hanoi(n, A, B, C):\n",
        "    if n == 1:\n",
        "        return [(A, C)]\n",
        "    else:\n",
        "        return hanoi(n-1, A, C, B) + hanoi(1, A, B, C) + hanoi(n-1, B, A, C)\n",
        "\n",
        "\n",
        "n = input(\"Please enter integer:\")\n",
        "for move in hanoi(int(n), 'A', 'B', 'C'):\n",
        "    print(\"move %c to %c\" % move)"
      ]
    }
  ]
}