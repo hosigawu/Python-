{
  "nbformat": 4,
  "nbformat_minor": 0,
  "metadata": {
    "colab": {
      "name": "ConvertMapToGraph.ipynb",
      "provenance": [],
      "authorship_tag": "ABX9TyNHe8bvJqRUBwvcTqzWeQrI",
      "include_colab_link": true
    },
    "kernelspec": {
      "name": "python3",
      "display_name": "Python 3"
    },
    "language_info": {
      "name": "python"
    }
  },
  "cells": [
    {
      "cell_type": "markdown",
      "metadata": {
        "id": "view-in-github",
        "colab_type": "text"
      },
      "source": [
        "<a href=\"https://colab.research.google.com/github/hosigawu/Python-/blob/main/ConvertMapToGraph.ipynb\" target=\"_parent\"><img src=\"https://colab.research.google.com/assets/colab-badge.svg\" alt=\"Open In Colab\"/></a>"
      ]
    },
    {
      "cell_type": "code",
      "execution_count": 4,
      "metadata": {
        "id": "LHJYL8ztVidu"
      },
      "outputs": [],
      "source": [
        "def getNodes(l):\n",
        "    a={}\n",
        "    for i in range(len(l)):\n",
        "        for j in range(len(l[i])):\n",
        "            if (type(l[i][j]) is type(1)):\n",
        "                a.update({l[i][j]:(i,j)})\n",
        "    return a\n",
        "\n",
        "def searchAdjascentNodes(m,coordonates):\n",
        "    nodes=set()\n",
        "    old=set()\n",
        "    toDo=set([coordonates])\n",
        "    while (len(toDo)!=0):\n",
        "        discoveredVertices=[]\n",
        "        for i in toDo:\n",
        "            adjascent=[j for j in [(i[0],i[1]+1), (i[0],i[1]-1), (i[0]+1,i[1]), (i[0]-1,i[1])] if (j[0]>=0 and j[0]<len(m) and j[1]>=0 and j[1]<len(m[0]) and j not in old and j not in toDo and j not in discoveredVertices)]\n",
        "            for a in adjascent:\n",
        "                if(type(m[a[0]][a[1]]) is int):\n",
        "                    nodes.add(m[a[0]][a[1]])\n",
        "                elif(m[a[0]][a[1]]==' '):\n",
        "                    discoveredVertices.append(a)\n",
        "        old=toDo.copy()\n",
        "        toDo=set(discoveredVertices)\n",
        "    return nodes\n",
        "\n",
        "def CreateGraph(m):\n",
        "    n=getNodes(m)\n",
        "    r={}\n",
        "    for i in n:\n",
        "        r.update({i:searchAdjascentNodes(m,n[i])})\n",
        "    return r"
      ]
    },
    {
      "cell_type": "code",
      "source": [
        "Map=[['@','@','@','@','@','@','@'],['@',1,2,' ',' ',5,'@'],['@','@','@',3,'@','@','@'],['@',4,' ',' ',' ',' ','@'],['@','@','@','@','@','@','@']]\n"
      ],
      "metadata": {
        "id": "iuKECheOVsDL"
      },
      "execution_count": 3,
      "outputs": []
    },
    {
      "cell_type": "code",
      "source": [
        "print(CreateGraph(Map))"
      ],
      "metadata": {
        "colab": {
          "base_uri": "https://localhost:8080/"
        },
        "id": "8fP_KOWVV1SM",
        "outputId": "2aa180eb-6056-49fe-d4be-ef4ebce2be69"
      },
      "execution_count": 5,
      "outputs": [
        {
          "output_type": "stream",
          "name": "stdout",
          "text": [
            "{1: {2}, 2: {1, 3, 5}, 5: {2, 3}, 3: {2, 4, 5}, 4: {3}}\n"
          ]
        }
      ]
    }
  ]
}