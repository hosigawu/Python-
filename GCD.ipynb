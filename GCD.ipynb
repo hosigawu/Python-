{
  "nbformat": 4,
  "nbformat_minor": 0,
  "metadata": {
    "colab": {
      "name": "GCD.ipynb",
      "provenance": [],
      "authorship_tag": "ABX9TyNhITo3anktxfgcykAwig0+",
      "include_colab_link": true
    },
    "kernelspec": {
      "name": "python3",
      "display_name": "Python 3"
    },
    "language_info": {
      "name": "python"
    }
  },
  "cells": [
    {
      "cell_type": "markdown",
      "metadata": {
        "id": "view-in-github",
        "colab_type": "text"
      },
      "source": [
        "<a href=\"https://colab.research.google.com/github/hosigawu/Python-/blob/main/GCD.ipynb\" target=\"_parent\"><img src=\"https://colab.research.google.com/assets/colab-badge.svg\" alt=\"Open In Colab\"/></a>"
      ]
    },
    {
      "cell_type": "code",
      "execution_count": 23,
      "metadata": {
        "id": "_rZF8AamZHFo"
      },
      "outputs": [],
      "source": [
        "def gcd(a,b):\n",
        "\n",
        "  while b != 0:\n",
        "    c = a%b\n",
        "    a = b\n",
        "    b = c\n",
        "\n",
        "  return a\n",
        "\n"
      ]
    },
    {
      "cell_type": "code",
      "source": [
        "gcd(13,5)"
      ],
      "metadata": {
        "id": "dnvrwSonZzaH"
      },
      "execution_count": 16,
      "outputs": []
    },
    {
      "cell_type": "code",
      "source": [
        "print(gcd(20,5))"
      ],
      "metadata": {
        "colab": {
          "base_uri": "https://localhost:8080/"
        },
        "id": "IP5Hu8liZ70C",
        "outputId": "02a3e4e2-040e-44c0-d2a1-8854dc5257eb"
      },
      "execution_count": 24,
      "outputs": [
        {
          "output_type": "stream",
          "name": "stdout",
          "text": [
            "5\n"
          ]
        }
      ]
    },
    {
      "cell_type": "code",
      "source": [
        "print(gcd(133,57))"
      ],
      "metadata": {
        "colab": {
          "base_uri": "https://localhost:8080/"
        },
        "id": "MnoITNj_eEqt",
        "outputId": "c715d1ef-a7fe-4ae9-8472-483e5d79a9e4"
      },
      "execution_count": 26,
      "outputs": [
        {
          "output_type": "stream",
          "name": "stdout",
          "text": [
            "19\n"
          ]
        }
      ]
    },
    {
      "cell_type": "code",
      "source": [
        "def gcd(a, b):\n",
        "    if a == 0 :\n",
        "        return b\n",
        "     \n",
        "    return gcd(b%a, a)"
      ],
      "metadata": {
        "id": "EY4EBwg9b8DH"
      },
      "execution_count": 9,
      "outputs": []
    },
    {
      "cell_type": "code",
      "source": [
        "print(gcd(133,19))"
      ],
      "metadata": {
        "colab": {
          "base_uri": "https://localhost:8080/"
        },
        "id": "ebZEbBTJb9xs",
        "outputId": "25f20d31-d554-4c2c-f34e-3c166a7630ef"
      },
      "execution_count": 10,
      "outputs": [
        {
          "output_type": "stream",
          "name": "stdout",
          "text": [
            "19\n"
          ]
        }
      ]
    },
    {
      "cell_type": "code",
      "source": [
        "def gcd(a,b): \n",
        "    if(b==0): \n",
        "        return a \n",
        "    else: \n",
        "        return gcd(b,a%b) \n",
        "        "
      ],
      "metadata": {
        "id": "QfJlwe7Fcjv_"
      },
      "execution_count": 11,
      "outputs": []
    },
    {
      "cell_type": "code",
      "source": [
        "print(gcd(13,65))"
      ],
      "metadata": {
        "colab": {
          "base_uri": "https://localhost:8080/"
        },
        "id": "sed6HzHJclVe",
        "outputId": "ecb6b6cf-8768-4c4a-eb8b-9cd47938c1f2"
      },
      "execution_count": 12,
      "outputs": [
        {
          "output_type": "stream",
          "name": "stdout",
          "text": [
            "13\n"
          ]
        }
      ]
    }
  ]
}