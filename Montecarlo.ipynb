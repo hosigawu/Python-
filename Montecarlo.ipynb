{
  "nbformat": 4,
  "nbformat_minor": 0,
  "metadata": {
    "colab": {
      "name": "Montecarlo.ipynb",
      "provenance": [],
      "authorship_tag": "ABX9TyP2RcLc2tWsvKvHh0T9kHah",
      "include_colab_link": true
    },
    "kernelspec": {
      "name": "python3",
      "display_name": "Python 3"
    },
    "language_info": {
      "name": "python"
    }
  },
  "cells": [
    {
      "cell_type": "markdown",
      "metadata": {
        "id": "view-in-github",
        "colab_type": "text"
      },
      "source": [
        "<a href=\"https://colab.research.google.com/github/hosigawu/Python-/blob/main/Montecarlo.ipynb\" target=\"_parent\"><img src=\"https://colab.research.google.com/assets/colab-badge.svg\" alt=\"Open In Colab\"/></a>"
      ]
    },
    {
      "cell_type": "markdown",
      "source": [
        ""
      ],
      "metadata": {
        "id": "Qgbzjar1MKbx"
      }
    },
    {
      "cell_type": "code",
      "execution_count": 13,
      "metadata": {
        "colab": {
          "base_uri": "https://localhost:8080/"
        },
        "id": "KgVy7UtSMGpd",
        "outputId": "c47e66fb-9699-4be7-b867-2e867d09bfca"
      },
      "outputs": [
        {
          "output_type": "stream",
          "name": "stdout",
          "text": [
            "4.0\n"
          ]
        }
      ],
      "source": [
        "import random\n",
        "count = 0\n",
        "\n",
        "x = random.uniform(0,1)\n",
        "y = random.uniform(0,1)\n",
        "\n",
        "for i in range(1000):\n",
        "  if x**2+y**2 < 1:\n",
        "    count += 1\n",
        "print(4*count/1000)"
      ]
    },
    {
      "cell_type": "code",
      "source": [
        ""
      ],
      "metadata": {
        "id": "0xXZ_uDQPaVa"
      },
      "execution_count": null,
      "outputs": []
    },
    {
      "cell_type": "code",
      "source": [
        "import random\n",
        "  \n",
        "INTERVAL= 2000\n",
        "  \n",
        "circle_points= 0\n",
        "square_points= 0\n",
        "  \n",
        "# Total Random numbers generated= possible x\n",
        "# values* possible y values\n",
        "for i in range(INTERVAL**2):\n",
        "  \n",
        "    # Randomly generated x and y values from a\n",
        "    # uniform distribution\n",
        "    # Range of x and y values is -1 to 1\n",
        "    rand_x= random.uniform(-1, 1)\n",
        "    rand_y= random.uniform(-1, 1)\n",
        "  \n",
        "    # Distance between (x, y) from the origin\n",
        "    origin_dist= rand_x**2 + rand_y**2\n",
        "  \n",
        "    # Checking if (x, y) lies inside the circle\n",
        "    if origin_dist<= 1:\n",
        "        circle_points+= 1\n",
        "  \n",
        "    square_points+= 1\n",
        "pi = 4* circle_points/ square_points\n",
        "  \n",
        "##    print(rand_x, rand_y, circle_points, square_points, \"-\", pi)\n",
        "##    print(\"\\n\")\n",
        "  \n",
        "print(\"Final Estimation of Pi=\", pi)"
      ],
      "metadata": {
        "colab": {
          "base_uri": "https://localhost:8080/"
        },
        "id": "k9KicuFLOLVr",
        "outputId": "f86d02ed-d803-4342-e98a-53afa645e67f"
      },
      "execution_count": 11,
      "outputs": [
        {
          "output_type": "stream",
          "name": "stdout",
          "text": [
            "Final Estimation of Pi= 3.143008\n"
          ]
        }
      ]
    },
    {
      "cell_type": "code",
      "source": [
        ""
      ],
      "metadata": {
        "id": "YVDVUeTaOv7o"
      },
      "execution_count": null,
      "outputs": []
    },
    {
      "cell_type": "code",
      "source": [
        "import random\n",
        "  \n",
        "INTERVAL= 4000\n",
        "  \n",
        "circle_points= 0\n",
        "square_points= 0\n",
        "  \n",
        "# Total Random numbers generated= possible x\n",
        "# values* possible y values\n",
        "for i in range(INTERVAL**2):\n",
        "  \n",
        "    # Randomly generated x and y values from a\n",
        "    # uniform distribution\n",
        "    # Range of x and y values is -1 to 1\n",
        "    rand_x= random.uniform(-1, 1)\n",
        "    rand_y= random.uniform(-1, 1)\n",
        "  \n",
        "    # Distance between (x, y) from the origin\n",
        "    origin_dist= rand_x**2 + rand_y**2\n",
        "  \n",
        "    # Checking if (x, y) lies inside the circle\n",
        "    if origin_dist<= 1:\n",
        "        circle_points+= 1\n",
        "  \n",
        "    square_points+= 1\n",
        "pi = 4* circle_points/ square_points\n",
        "  \n",
        "##    print(rand_x, rand_y, circle_points, square_points, \"-\", pi)\n",
        "##    print(\"\\n\")\n",
        "  \n",
        "print(\"Final Estimation of Pi=\", pi)"
      ],
      "metadata": {
        "colab": {
          "base_uri": "https://localhost:8080/"
        },
        "outputId": "8d5d6c1f-c3e6-4c15-e292-7ff50f5f6dc2",
        "id": "kvqQ1c6oO1Mg"
      },
      "execution_count": 12,
      "outputs": [
        {
          "output_type": "stream",
          "name": "stdout",
          "text": [
            "Final Estimation of Pi= 3.14158725\n"
          ]
        }
      ]
    },
    {
      "cell_type": "markdown",
      "source": [
        "running over almost 2 mins! "
      ],
      "metadata": {
        "id": "5sJGeIi0QFv6"
      }
    },
    {
      "cell_type": "code",
      "source": [
        "import random\n",
        "  \n",
        "INTERVAL= 10000\n",
        "  \n",
        "circle_points= 0\n",
        "square_points= 0\n",
        "  \n",
        "# Total Random numbers generated= possible x\n",
        "# values* possible y values\n",
        "for i in range(INTERVAL**2):\n",
        "  \n",
        "    # Randomly generated x and y values from a\n",
        "    # uniform distribution\n",
        "    # Range of x and y values is -1 to 1\n",
        "    rand_x= random.uniform(-1, 1)\n",
        "    rand_y= random.uniform(-1, 1)\n",
        "  \n",
        "    # Distance between (x, y) from the origin\n",
        "    origin_dist= rand_x**2 + rand_y**2\n",
        "  \n",
        "    # Checking if (x, y) lies inside the circle\n",
        "    if origin_dist<= 1:\n",
        "        circle_points+= 1\n",
        "  \n",
        "    square_points+= 1\n",
        "pi = 4* circle_points/ square_points\n",
        "  \n",
        "##    print(rand_x, rand_y, circle_points, square_points, \"-\", pi)\n",
        "##    print(\"\\n\")\n",
        "  \n",
        "print(\"Final Estimation of Pi=\", pi)"
      ],
      "metadata": {
        "colab": {
          "base_uri": "https://localhost:8080/"
        },
        "id": "IucgOi1VPeh8",
        "outputId": "d58f65b3-41b4-48c1-e10b-d5c600de8a85"
      },
      "execution_count": 14,
      "outputs": [
        {
          "output_type": "stream",
          "name": "stdout",
          "text": [
            "Final Estimation of Pi= 3.14189732\n"
          ]
        }
      ]
    }
  ]
}