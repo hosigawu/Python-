{
  "nbformat": 4,
  "nbformat_minor": 0,
  "metadata": {
    "colab": {
      "name": "Class Rectangle.ipynb",
      "provenance": [],
      "authorship_tag": "ABX9TyOnJc4A+R4i+k+H9NbeA7p0",
      "include_colab_link": true
    },
    "kernelspec": {
      "name": "python3",
      "display_name": "Python 3"
    },
    "language_info": {
      "name": "python"
    }
  },
  "cells": [
    {
      "cell_type": "markdown",
      "metadata": {
        "id": "view-in-github",
        "colab_type": "text"
      },
      "source": [
        "<a href=\"https://colab.research.google.com/github/hosigawu/Python-/blob/main/Class_Rectangle.ipynb\" target=\"_parent\"><img src=\"https://colab.research.google.com/assets/colab-badge.svg\" alt=\"Open In Colab\"/></a>"
      ]
    },
    {
      "cell_type": "code",
      "execution_count": 1,
      "metadata": {
        "id": "_9rVoNlMPSxT"
      },
      "outputs": [],
      "source": [
        "class Rectangle:\n",
        "  def __init__(self,length,weight):\n",
        "    self.length = length\n",
        "    self.weight = weight\n",
        "  def getarea(self):\n",
        "    return self.length*self.weight\n",
        "  "
      ]
    },
    {
      "cell_type": "code",
      "source": [
        "shape = Rectangle(2,5)"
      ],
      "metadata": {
        "id": "HQwYyaklPzxq"
      },
      "execution_count": 3,
      "outputs": []
    },
    {
      "cell_type": "code",
      "source": [
        "area = shape.getarea()"
      ],
      "metadata": {
        "id": "gfcAOkmLQCTf"
      },
      "execution_count": 6,
      "outputs": []
    },
    {
      "cell_type": "code",
      "source": [
        "print(area)"
      ],
      "metadata": {
        "colab": {
          "base_uri": "https://localhost:8080/"
        },
        "id": "TYLjjrjTQId-",
        "outputId": "c059cd0f-e583-41fb-f535-9b8710de084c"
      },
      "execution_count": 7,
      "outputs": [
        {
          "output_type": "stream",
          "name": "stdout",
          "text": [
            "10\n"
          ]
        }
      ]
    }
  ]
}