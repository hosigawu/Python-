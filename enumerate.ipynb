{
  "nbformat": 4,
  "nbformat_minor": 0,
  "metadata": {
    "colab": {
      "name": "enumerate.ipynb",
      "provenance": [],
      "authorship_tag": "ABX9TyNvE7locRuxi8BukvS1ngzx",
      "include_colab_link": true
    },
    "kernelspec": {
      "name": "python3",
      "display_name": "Python 3"
    },
    "language_info": {
      "name": "python"
    }
  },
  "cells": [
    {
      "cell_type": "markdown",
      "metadata": {
        "id": "view-in-github",
        "colab_type": "text"
      },
      "source": [
        "<a href=\"https://colab.research.google.com/github/hosigawu/Python-/blob/main/enumerate.ipynb\" target=\"_parent\"><img src=\"https://colab.research.google.com/assets/colab-badge.svg\" alt=\"Open In Colab\"/></a>"
      ]
    },
    {
      "cell_type": "code",
      "execution_count": 4,
      "metadata": {
        "id": "rFEpky4VBb94"
      },
      "outputs": [],
      "source": [
        "NBA = ['Mavericks', 'Suns', 'Bucks']"
      ]
    },
    {
      "cell_type": "code",
      "source": [
        "for i, element in enumerate(NBA):\n",
        "  print(i, element)"
      ],
      "metadata": {
        "colab": {
          "base_uri": "https://localhost:8080/"
        },
        "id": "aHeEdFixBotu",
        "outputId": "4f4785a5-7f08-4fdf-ad2f-7288b4b9235f"
      },
      "execution_count": 5,
      "outputs": [
        {
          "output_type": "stream",
          "name": "stdout",
          "text": [
            "0 Mavericks\n",
            "1 Suns\n",
            "2 Bucks\n"
          ]
        }
      ]
    }
  ]
}