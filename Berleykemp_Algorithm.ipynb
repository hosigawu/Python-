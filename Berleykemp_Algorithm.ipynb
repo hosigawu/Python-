{
  "nbformat": 4,
  "nbformat_minor": 0,
  "metadata": {
    "colab": {
      "name": "Berleykemp Algorithm.ipynb",
      "provenance": [],
      "authorship_tag": "ABX9TyOy8QA7ZFg67jV5mDsI8zGP",
      "include_colab_link": true
    },
    "kernelspec": {
      "name": "python3",
      "display_name": "Python 3"
    },
    "language_info": {
      "name": "python"
    }
  },
  "cells": [
    {
      "cell_type": "markdown",
      "metadata": {
        "id": "view-in-github",
        "colab_type": "text"
      },
      "source": [
        "<a href=\"https://colab.research.google.com/github/hosigawu/Python-/blob/main/Berleykemp_Algorithm.ipynb\" target=\"_parent\"><img src=\"https://colab.research.google.com/assets/colab-badge.svg\" alt=\"Open In Colab\"/></a>"
      ]
    },
    {
      "cell_type": "code",
      "execution_count": 1,
      "metadata": {
        "id": "hFS5gTqZfQtQ"
      },
      "outputs": [],
      "source": [
        "def linear_complexity(self, bin_data, block_size=500):\n",
        "    \"\"\"\n",
        "    Note that this description is taken from the NIST documentation [1]\n",
        "    [1] http://csrc.nist.gov/publications/nistpubs/800-22-rev1a/SP800-22rev1a.pdf\n",
        "    The focus of this test is the length of a linear feedback shift register (LFSR). The purpose of this test is to\n",
        "    determine whether or not the sequence is complex enough to be considered random. Random sequences are\n",
        "    characterized by longer LFSRs. An LFSR that is too short implies non-randomness.\n",
        "    :param bin_data: a binary string\n",
        "    :param block_size: the size of the blocks to divide bin_data into. Recommended block_size >= 500\n",
        "    :return:\n",
        "    \"\"\"\n",
        "    dof = 6\n",
        "    piks = [0.01047, 0.03125, 0.125, 0.5, 0.25, 0.0625, 0.020833]\n",
        "\n",
        "    t2 = (block_size / 3.0 + 2.0 / 9) / 2 ** block_size\n",
        "    mean = 0.5 * block_size + (1.0 / 36) * (9 + (-1) ** (block_size + 1)) - t2\n",
        "\n",
        "    num_blocks = int(len(bin_data) / block_size)\n",
        "    if num_blocks > 1:\n",
        "        block_end = block_size\n",
        "        block_start = 0\n",
        "        blocks = []\n",
        "        for i in range(num_blocks):\n",
        "            blocks.append(bin_data[block_start:block_end])\n",
        "            block_start += block_size\n",
        "            block_end += block_size\n",
        "\n",
        "        complexities = []\n",
        "        for block in blocks:\n",
        "            complexities.append(self.berlekamp_massey_algorithm(block))\n",
        "\n",
        "        t = ([-1.0 * (((-1) ** block_size) * (chunk - mean) + 2.0 / 9) for chunk in complexities])\n",
        "        vg = numpy.histogram(t, bins=[-9999999999, -2.5, -1.5, -0.5, 0.5, 1.5, 2.5, 9999999999])[0][::-1]\n",
        "        im = ([((vg[ii] - num_blocks * piks[ii]) ** 2) / (num_blocks * piks[ii]) for ii in range(7)])\n",
        "\n",
        "        chi_squared = 0.0\n",
        "        for i in range(len(piks)):\n",
        "            chi_squared += im[i]\n",
        "        p_val = spc.gammaincc(dof / 2.0, chi_squared / 2.0)\n",
        "        return p_val\n",
        "    else:\n",
        "        return -1.0\n",
        "\n",
        "def berlekamp_massey_algorithm(self, block_data):\n",
        "    \"\"\"\n",
        "    An implementation of the Berlekamp Massey Algorithm. Taken from Wikipedia [1]\n",
        "    [1] - https://en.wikipedia.org/wiki/Berlekamp-Massey_algorithm\n",
        "    The Berlekamp–Massey algorithm is an algorithm that will find the shortest linear feedback shift register (LFSR)\n",
        "    for a given binary output sequence. The algorithm will also find the minimal polynomial of a linearly recurrent\n",
        "    sequence in an arbitrary field. The field requirement means that the Berlekamp–Massey algorithm requires all\n",
        "    non-zero elements to have a multiplicative inverse.\n",
        "    :param block_data:\n",
        "    :return:\n",
        "    \"\"\"\n",
        "    n = len(block_data)\n",
        "    c = numpy.zeros(n)\n",
        "    b = numpy.zeros(n)\n",
        "    c[0], b[0] = 1, 1\n",
        "    l, m, i = 0, -1, 0\n",
        "    int_data = [int(el) for el in block_data]\n",
        "    while i < n:\n",
        "        v = int_data[(i - l):i]\n",
        "        v = v[::-1]\n",
        "        cc = c[1:l + 1]\n",
        "        d = (int_data[i] + numpy.dot(v, cc)) % 2\n",
        "        if d == 1:\n",
        "            temp = copy.copy(c)\n",
        "            p = numpy.zeros(n)\n",
        "            for j in range(0, l):\n",
        "                if b[j] == 1:\n",
        "                    p[j + i - m] = 1\n",
        "            c = (c + p) % 2\n",
        "            if l <= 0.5 * i:\n",
        "                l = i + 1 - l\n",
        "                m = i\n",
        "                b = temp\n",
        "        i += 1\n",
        "    return l"
      ]
    }
  ]
}