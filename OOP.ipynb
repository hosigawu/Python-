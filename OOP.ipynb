{
  "nbformat": 4,
  "nbformat_minor": 0,
  "metadata": {
    "colab": {
      "name": "OOP.ipynb",
      "provenance": [],
      "authorship_tag": "ABX9TyMKSdLFNADxtJYN8LtCdeAb",
      "include_colab_link": true
    },
    "kernelspec": {
      "name": "python3",
      "display_name": "Python 3"
    },
    "language_info": {
      "name": "python"
    }
  },
  "cells": [
    {
      "cell_type": "markdown",
      "metadata": {
        "id": "view-in-github",
        "colab_type": "text"
      },
      "source": [
        "<a href=\"https://colab.research.google.com/github/hosigawu/Python-/blob/main/OOP.ipynb\" target=\"_parent\"><img src=\"https://colab.research.google.com/assets/colab-badge.svg\" alt=\"Open In Colab\"/></a>"
      ]
    },
    {
      "cell_type": "code",
      "execution_count": 1,
      "metadata": {
        "colab": {
          "base_uri": "https://localhost:8080/"
        },
        "id": "q28W58srtMoe",
        "outputId": "e2419fb9-1b52-4d5e-ff3a-742ca91c7c8e"
      },
      "outputs": [
        {
          "output_type": "stream",
          "name": "stdout",
          "text": [
            "Doff is 2 years old\n",
            "bark\n",
            "Poppy is 3 years old\n",
            "bark\n"
          ]
        }
      ],
      "source": [
        "class Animal:\n",
        "    def __init__(self, name, age):\n",
        "        self.name = name\n",
        "        self.age = age\n",
        "    def sound(self, voice):\n",
        "        return voice\n",
        "d = Animal(\"Doff\", 2)\n",
        "print(\"{} is {} years old\".format(d.name, d.age)) # Doff is 2 years old\n",
        "print(d.sound(\"bark\")) # bark\n",
        "\n",
        "class Dog:\n",
        "    def __init__(self, name, age):\n",
        "        self.name = name\n",
        "        self.age = age\n",
        "    def sound(self, voice):\n",
        "        return voice\n",
        "poppy = Dog(\"Poppy\", 3)\n",
        "print(\"{} is {} years old\".format(poppy.name, poppy.age))  # Poppy is 3 years old\n",
        "print(poppy.sound(\"bark\")) # bark"
      ]
    },
    {
      "cell_type": "code",
      "source": [
        "class Animal:\n",
        "    def __init__(self, name, age):\n",
        "        self.name = name\n",
        "        self.age = age\n",
        "    def sound(self, voice):\n",
        "        return voice\n",
        "class Dog(Animal):\n",
        "    pass    # 雖然無程式碼，但Python仍會執行\n",
        "poppy = Dog(\"Poppy\", 3)\n",
        "print(\"{} is {} years old\".format(poppy.name, poppy.age))  #Poppy is 3 years old\n",
        "print(poppy.sound(\"bark\"))  #bark"
      ],
      "metadata": {
        "colab": {
          "base_uri": "https://localhost:8080/"
        },
        "id": "vzJi5c1NtRXo",
        "outputId": "6d3c7b52-2652-4208-e3d9-c8607a925141"
      },
      "execution_count": 2,
      "outputs": [
        {
          "output_type": "stream",
          "name": "stdout",
          "text": [
            "Poppy is 3 years old\n",
            "bark\n"
          ]
        }
      ]
    },
    {
      "cell_type": "code",
      "source": [
        "class Animal:\n",
        "    def __init__(self, name, age):\n",
        "        self.name = name\n",
        "        self.age = age\n",
        "    def sound(self, voice):\n",
        "        return voice\n",
        "\n",
        "class Dog(Animal):\n",
        "    def __init__(self, name, age, color):\n",
        "        super().__init__(name,age)\n",
        "        self.color = color\n",
        "    def sound(self, voice):\n",
        "        return f\"{self.name} has the {voice} sounds\"\n",
        "poppy = Dog(\"Poppy\", 3, \"Brown\")\n",
        "print(\"{} is {} years old and the color is {}\".format(poppy.name, poppy.age, poppy.color))  # Poppy is 3 years old and the color is Brown\n",
        "print(poppy.sound(\"bark\")) # Poppy has the bark sounds"
      ],
      "metadata": {
        "colab": {
          "base_uri": "https://localhost:8080/"
        },
        "id": "6hx2XX12tovW",
        "outputId": "1e4c44f9-beec-4394-8def-6ab4ca7569de"
      },
      "execution_count": 3,
      "outputs": [
        {
          "output_type": "stream",
          "name": "stdout",
          "text": [
            "Poppy is 3 years old and the color is Brown\n",
            "Poppy has the bark sounds\n"
          ]
        }
      ]
    },
    {
      "cell_type": "code",
      "source": [
        "class Animal:\n",
        "    def __init__(self, name, age):\n",
        "        self.name = name\n",
        "        self.age = age\n",
        "    def sound(self, voice):\n",
        "        return voice\n",
        "\n",
        "class Dog(Animal):\n",
        "    def __init__(self, name, age, color):\n",
        "        Animal.__init__(self, name,age) # 類別名稱後面不用加()、第一個參數須為self\n",
        "        self.color = color\n",
        "    def sound(self, voice):\n",
        "        return f\"{self.name} has the {voice} sounds\"\n",
        "poppy = Dog(\"Poppy\", 3, \"Brown\")\n",
        "print(\"{} is {} years old and the color is {}\".format(poppy.name, poppy.age, poppy.color)) # Poppy is 3 years old and the color is Brown\n",
        "print(poppy.sound(\"bark\"))  # Poppy has the bark sounds"
      ],
      "metadata": {
        "colab": {
          "base_uri": "https://localhost:8080/"
        },
        "id": "_h8PI0-0t0w-",
        "outputId": "45c9dad5-ab6b-433e-e5fe-0dfc00f97663"
      },
      "execution_count": 4,
      "outputs": [
        {
          "output_type": "stream",
          "name": "stdout",
          "text": [
            "Poppy is 3 years old and the color is Brown\n",
            "Poppy has the bark sounds\n"
          ]
        }
      ]
    },
    {
      "cell_type": "code",
      "source": [
        "class Animal:\n",
        "    def __init__(self, name, age):\n",
        "        self.name = name\n",
        "        self.age = age\n",
        "    def sound(self, voice):\n",
        "        return voice\n",
        "\n",
        "class Dog(Animal):\n",
        "    def __init__(self, name, age, color):\n",
        "        super().__init__(name,age)\n",
        "        self.color = color\n",
        "    def sound(self, voice):\n",
        "        return f\"{self.name} has the {voice} sounds\"\n",
        "kity = Animal(\"Kity\", 6)\n",
        "poppy = Dog(\"Poppy\", 3, \"Brown\")\n",
        "print(\"{} is {} years old and the color is {}\".format(poppy.name, poppy.age, poppy.color))  # Poppy is 3 years old and the color is Brown\n",
        "print(poppy.sound(\"bark\")) # 子類別修改method後的值：Poppy has the bark sounds\n",
        "print(kity.sound(\"Haha....\")) # Parent類別實例的method值：Haha...."
      ],
      "metadata": {
        "colab": {
          "base_uri": "https://localhost:8080/"
        },
        "id": "8OMNc1hSuOKm",
        "outputId": "08af7477-055a-4e3f-f57f-524426a66916"
      },
      "execution_count": 5,
      "outputs": [
        {
          "output_type": "stream",
          "name": "stdout",
          "text": [
            "Poppy is 3 years old and the color is Brown\n",
            "Poppy has the bark sounds\n",
            "Haha....\n"
          ]
        }
      ]
    },
    {
      "cell_type": "code",
      "source": [
        "class Animal:\n",
        "    def __init__(self, name, age):\n",
        "        self.name = name\n",
        "        self.age = age\n",
        "    def sound(self, voice):\n",
        "        return voice\n",
        "\n",
        "class Dog(Animal):\n",
        "    def __init__(self, name, age, color):\n",
        "        Animal.__init__(self, name,age) # 類別名稱後面不用加()、第一個參數須為self\n",
        "        self.color = color\n",
        "    def sound(self, voice):\n",
        "        return f\"{self.name} has the {voice} sounds\"\n",
        "    def run(self):\n",
        "        return \"Running fast\"\n",
        "doff = Animal(\"Doff\",1)\n",
        "poppy = Dog(\"Poppy\", 3, \"Brown\")\n",
        "print(poppy.run())  # Running fast\n",
        "print(doff.run())  # AttributeError: 'Animal' object has no attribute 'run'"
      ],
      "metadata": {
        "colab": {
          "base_uri": "https://localhost:8080/",
          "height": 219
        },
        "id": "7uFTscMpuQ5H",
        "outputId": "01f16937-05ab-4ce3-9d7b-44b55f97cfb1"
      },
      "execution_count": 6,
      "outputs": [
        {
          "output_type": "stream",
          "name": "stdout",
          "text": [
            "Running fast\n"
          ]
        },
        {
          "output_type": "error",
          "ename": "AttributeError",
          "evalue": "ignored",
          "traceback": [
            "\u001b[0;31m---------------------------------------------------------------------------\u001b[0m",
            "\u001b[0;31mAttributeError\u001b[0m                            Traceback (most recent call last)",
            "\u001b[0;32m<ipython-input-6-d0156b842133>\u001b[0m in \u001b[0;36m<module>\u001b[0;34m()\u001b[0m\n\u001b[1;32m     17\u001b[0m \u001b[0mpoppy\u001b[0m \u001b[0;34m=\u001b[0m \u001b[0mDog\u001b[0m\u001b[0;34m(\u001b[0m\u001b[0;34m\"Poppy\"\u001b[0m\u001b[0;34m,\u001b[0m \u001b[0;36m3\u001b[0m\u001b[0;34m,\u001b[0m \u001b[0;34m\"Brown\"\u001b[0m\u001b[0;34m)\u001b[0m\u001b[0;34m\u001b[0m\u001b[0;34m\u001b[0m\u001b[0m\n\u001b[1;32m     18\u001b[0m \u001b[0mprint\u001b[0m\u001b[0;34m(\u001b[0m\u001b[0mpoppy\u001b[0m\u001b[0;34m.\u001b[0m\u001b[0mrun\u001b[0m\u001b[0;34m(\u001b[0m\u001b[0;34m)\u001b[0m\u001b[0;34m)\u001b[0m  \u001b[0;31m# Running fast\u001b[0m\u001b[0;34m\u001b[0m\u001b[0;34m\u001b[0m\u001b[0m\n\u001b[0;32m---> 19\u001b[0;31m \u001b[0mprint\u001b[0m\u001b[0;34m(\u001b[0m\u001b[0mdoff\u001b[0m\u001b[0;34m.\u001b[0m\u001b[0mrun\u001b[0m\u001b[0;34m(\u001b[0m\u001b[0;34m)\u001b[0m\u001b[0;34m)\u001b[0m  \u001b[0;31m# AttributeError: 'Animal' object has no attribute 'run'\u001b[0m\u001b[0;34m\u001b[0m\u001b[0;34m\u001b[0m\u001b[0m\n\u001b[0m",
            "\u001b[0;31mAttributeError\u001b[0m: 'Animal' object has no attribute 'run'"
          ]
        }
      ]
    },
    {
      "cell_type": "code",
      "source": [
        "class Animal:\n",
        "    def __init__(self, name, age):\n",
        "        self.name = name\n",
        "        self.age = age\n",
        "    def sound(self, voice):\n",
        "        return voice\n",
        "\n",
        "class Dog(Animal):\n",
        "    def __init__(self, name, age, color):\n",
        "        Animal.__init__(self, name,age) # 類別名稱後面不用加()、第一個參數須為self\n",
        "        self.color = color\n",
        "    def sound(self, voice):\n",
        "        return f\"{self.name} has the {voice} sounds\"\n",
        "    def run(self):\n",
        "        return \"Running fast\"\n",
        "doff = Animal(\"Doff\",1)\n",
        "poppy = Dog(\"Poppy\", 3, \"Brown\")\n",
        "print(poppy.run())  # Running fast"
      ],
      "metadata": {
        "colab": {
          "base_uri": "https://localhost:8080/"
        },
        "id": "qY263Wb_uqxv",
        "outputId": "da0b88d5-5e94-4c0e-b353-ae39ce5e2a70"
      },
      "execution_count": 8,
      "outputs": [
        {
          "output_type": "stream",
          "name": "stdout",
          "text": [
            "Running fast\n"
          ]
        }
      ]
    }
  ]
}