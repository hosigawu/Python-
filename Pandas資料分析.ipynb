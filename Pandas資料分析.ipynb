{
  "nbformat": 4,
  "nbformat_minor": 0,
  "metadata": {
    "colab": {
      "name": "Pandas資料分析.ipynb",
      "provenance": [],
      "authorship_tag": "ABX9TyMjJVsdq5wczmFCl3AFyapj",
      "include_colab_link": true
    },
    "kernelspec": {
      "name": "python3",
      "display_name": "Python 3"
    },
    "language_info": {
      "name": "python"
    }
  },
  "cells": [
    {
      "cell_type": "markdown",
      "metadata": {
        "id": "view-in-github",
        "colab_type": "text"
      },
      "source": [
        "<a href=\"https://colab.research.google.com/github/hosigawu/Python-/blob/main/Pandas%E8%B3%87%E6%96%99%E5%88%86%E6%9E%90.ipynb\" target=\"_parent\"><img src=\"https://colab.research.google.com/assets/colab-badge.svg\" alt=\"Open In Colab\"/></a>"
      ]
    },
    {
      "cell_type": "code",
      "execution_count": null,
      "metadata": {
        "id": "-Us-0gLy8ibS"
      },
      "outputs": [],
      "source": [
        "import pandas as pd"
      ]
    },
    {
      "cell_type": "code",
      "source": [
        "import csv\n",
        "from csv import reader"
      ],
      "metadata": {
        "id": "2pm-8YvHb-6s"
      },
      "execution_count": null,
      "outputs": []
    },
    {
      "cell_type": "code",
      "source": [
        "import os\n",
        "import xlrd\n",
        "import openpyxl\n",
        "\n"
      ],
      "metadata": {
        "id": "BSBG1RnUDlT_"
      },
      "execution_count": null,
      "outputs": []
    },
    {
      "cell_type": "markdown",
      "source": [
        "python字典轉換成dataframe\n",
        "https://www.delftstack.com/zh-tw/howto/python-pandas/how-to-convert-python-dictionary-to-pandas-dataframe/\n"
      ],
      "metadata": {
        "id": "NZdF-BTEcr0q"
      }
    },
    {
      "cell_type": "markdown",
      "source": [
        "pandas合併文字文字\n",
        "https://www.delftstack.com/zh-tw/howto/python-pandas/how-to-combine-two-columns-of-text-in-dataframe-in-pandas/\n"
      ],
      "metadata": {
        "id": "ZCgSi20ZdMWz"
      }
    },
    {
      "cell_type": "markdown",
      "source": [
        "pandas字符串分割分割\n",
        "https://blog.csdn.net/qq_41076797/article/details/103206175\n"
      ],
      "metadata": {
        "id": "00HLehHarDTB"
      }
    },
    {
      "cell_type": "code",
      "source": [
        "txt = \"apple#banana#cherry#orange\"\n",
        "\n",
        "x = txt.split(\"#\")\n",
        "\n",
        "print(x)"
      ],
      "metadata": {
        "colab": {
          "base_uri": "https://localhost:8080/"
        },
        "id": "KMXIBaQ_J4Jx",
        "outputId": "a9680414-aff9-4f3b-a3f1-e493f4ae99e0"
      },
      "execution_count": null,
      "outputs": [
        {
          "output_type": "stream",
          "name": "stdout",
          "text": [
            "['apple', 'banana', 'cherry', 'orange']\n"
          ]
        }
      ]
    },
    {
      "cell_type": "markdown",
      "source": [
        "完成2.1的要求"
      ],
      "metadata": {
        "id": "TmHLiJ8OELmF"
      }
    },
    {
      "cell_type": "code",
      "source": [
        "txt = \"正品      ^          ^11-1336 04  B70 ^       6\"\n",
        "\n",
        "x = txt.split('^')\n",
        "\n",
        "del x[1]\n",
        "print(x)"
      ],
      "metadata": {
        "colab": {
          "base_uri": "https://localhost:8080/"
        },
        "id": "J67noP4_CZho",
        "outputId": "cfccd6f1-ccfd-432b-a519-2fe3ede2f3aa"
      },
      "execution_count": null,
      "outputs": [
        {
          "output_type": "stream",
          "name": "stdout",
          "text": [
            "['正品      ', '11-1336 04  B70 ', '       6']\n"
          ]
        }
      ]
    },
    {
      "cell_type": "code",
      "source": [
        "import os\n",
        "import xlrd\n",
        "#填上對的路徑\n",
        "data = xlrd.open_workbook(os.path.join（' '）)\n",
        "table = data.sheets()[0]\n",
        "nrows = table.nrows\n",
        "ls = []\n",
        "for i in range(nrows):\n",
        "  ls.append(i)\n",
        "#對ls每一個元素作字串處理\n",
        "newls = [] \n",
        "for j in range(len(ls)):\n",
        "  ls[j] = ls[j].split('^')\n",
        "  del ls[j][1]\n",
        "  newls.append(ls[j])\n",
        "\n",
        "\n",
        "\n",
        "\n",
        "\n"
      ],
      "metadata": {
        "id": "VlLLXqCzGT9d"
      },
      "execution_count": null,
      "outputs": []
    },
    {
      "cell_type": "code",
      "source": [
        "data = pd.DataFrame({\"賣場\":[\"Amy\",\"Bob\"], \"商品貨號\":[\"150\",\"160\"], \"可售數量\":[\"1\",\"2\"]})"
      ],
      "metadata": {
        "id": "9OclASEx8oet"
      },
      "execution_count": null,
      "outputs": []
    },
    {
      "cell_type": "code",
      "source": [
        "print(data)"
      ],
      "metadata": {
        "colab": {
          "base_uri": "https://localhost:8080/"
        },
        "id": "ZKX6ssrW9hSK",
        "outputId": "418122c0-8612-4ffe-d7ed-e2cd81edd466"
      },
      "execution_count": null,
      "outputs": [
        {
          "output_type": "stream",
          "name": "stdout",
          "text": [
            "    賣場 商品貨號 可售數量\n",
            "0  Amy  150    1\n",
            "1  Bob  160    2\n"
          ]
        }
      ]
    },
    {
      "cell_type": "markdown",
      "source": [
        "算維度 並把第一列 第二列 第三列 都列出來"
      ],
      "metadata": {
        "id": "TQvNFOzoHLAU"
      }
    },
    {
      "cell_type": "code",
      "source": [
        "print(data.shape)"
      ],
      "metadata": {
        "id": "ozci8__2HgaL",
        "colab": {
          "base_uri": "https://localhost:8080/"
        },
        "outputId": "2db41848-b56a-407e-d2d5-766b21764a53"
      },
      "execution_count": null,
      "outputs": [
        {
          "output_type": "stream",
          "name": "stdout",
          "text": [
            "(2, 3)\n"
          ]
        }
      ]
    },
    {
      "cell_type": "code",
      "source": [
        "ls1 = []\n",
        "for i in range(len(newls)):\n",
        "  ls1.append(newls[i][0])\n",
        "\n"
      ],
      "metadata": {
        "id": "OkfthGBc9mfZ"
      },
      "execution_count": null,
      "outputs": []
    },
    {
      "cell_type": "code",
      "source": [
        "ls2 = []\n",
        "for i in range(len(newls)):\n",
        "  ls2.append(newls[i][1])\n"
      ],
      "metadata": {
        "id": "Dt1wcxifHI74"
      },
      "execution_count": null,
      "outputs": []
    },
    {
      "cell_type": "code",
      "source": [
        "ls3 = []\n",
        "for i in range(len(newls)):\n",
        "  ls3.append(newls[i][2])"
      ],
      "metadata": {
        "id": "33XPiymlHXHi"
      },
      "execution_count": null,
      "outputs": []
    },
    {
      "cell_type": "code",
      "source": [
        "data = pd.DataFrame({\"賣場\":ls1, \"商品貨號\":ls2, \"可售數量\":ls3})\n"
      ],
      "metadata": {
        "id": "v96P2Dr_Ho8z"
      },
      "execution_count": null,
      "outputs": []
    },
    {
      "cell_type": "markdown",
      "source": [
        "至此,應可完成到2.3的部分"
      ],
      "metadata": {
        "id": "arZlGRmLN6In"
      }
    },
    {
      "cell_type": "markdown",
      "source": [
        "一般的例子"
      ],
      "metadata": {
        "id": "v2NwoUv4Kn3c"
      }
    },
    {
      "cell_type": "code",
      "source": [
        "import pandas as pd"
      ],
      "metadata": {
        "id": "1q3CoRhDKnds"
      },
      "execution_count": null,
      "outputs": []
    },
    {
      "cell_type": "code",
      "source": [
        "import pandas as pd\n",
        "\n",
        "# create a dataframe after reading .csv file\n",
        "dataframe = pd.read_csv (r'C:\\Users\\DELL\\OneDrive\\Desktop\\CSV_files\\Samplefile1.csv') \n",
        "\n",
        "# print dataframe\n",
        "print(dataframe)\n",
        "\n",
        "# displaying dataframe shape \n",
        "print('The shape of the DataFrame is: ', dataframe.shape)"
      ],
      "metadata": {
        "id": "uc7FlHOkMXQX"
      },
      "execution_count": null,
      "outputs": []
    },
    {
      "cell_type": "markdown",
      "source": [
        "刪除dataframe row or colume"
      ],
      "metadata": {
        "id": "N4C7e6ExMqXA"
      }
    },
    {
      "cell_type": "code",
      "source": [
        ""
      ],
      "metadata": {
        "id": "l5ttAiFtLcyY"
      },
      "execution_count": null,
      "outputs": []
    },
    {
      "cell_type": "markdown",
      "source": [
        ""
      ],
      "metadata": {
        "id": "qJZ5hoDSMzrS"
      }
    },
    {
      "cell_type": "code",
      "source": [
        "{\"1\":正品      ^          ^11-1214 04  B70 ^       4,\"2\":}"
      ],
      "metadata": {
        "id": "xtIRUJ-TM0IP"
      },
      "execution_count": null,
      "outputs": []
    },
    {
      "cell_type": "code",
      "source": [
        "a = [\"trp ui\"]\n"
      ],
      "metadata": {
        "id": "ToNCHsTYiKwn"
      },
      "execution_count": null,
      "outputs": []
    },
    {
      "cell_type": "code",
      "source": [
        "for i in a:\n",
        "  print(i)"
      ],
      "metadata": {
        "colab": {
          "base_uri": "https://localhost:8080/"
        },
        "id": "G0z2EQzdicTd",
        "outputId": "84a1d66c-f9ed-4a90-c5c5-c32a3d43f500"
      },
      "execution_count": null,
      "outputs": [
        {
          "output_type": "stream",
          "name": "stdout",
          "text": [
            "trp ui\n"
          ]
        }
      ]
    },
    {
      "cell_type": "code",
      "source": [
        "for i in a:\n",
        "  if i == \" \":\n",
        "    i = \"#\"\n",
        "    a+=i\n",
        "\n"
      ],
      "metadata": {
        "id": "Q8S8fymmihix"
      },
      "execution_count": null,
      "outputs": []
    },
    {
      "cell_type": "code",
      "source": [
        "print(a)"
      ],
      "metadata": {
        "colab": {
          "base_uri": "https://localhost:8080/"
        },
        "id": "TNSQOWaMi0U8",
        "outputId": "f42dd614-e7fc-42b6-f6b2-71cc896ab05b"
      },
      "execution_count": null,
      "outputs": [
        {
          "output_type": "stream",
          "name": "stdout",
          "text": [
            "['trp ui']\n"
          ]
        }
      ]
    },
    {
      "cell_type": "code",
      "source": [
        "a = [\"123\"]\n",
        "a.append(\"@\") "
      ],
      "metadata": {
        "id": "0TrmGnBnjSVO"
      },
      "execution_count": null,
      "outputs": []
    },
    {
      "cell_type": "code",
      "source": [
        "b = str(a)\n",
        "b+='@'"
      ],
      "metadata": {
        "id": "rzdBz2Wjjofx"
      },
      "execution_count": null,
      "outputs": []
    },
    {
      "cell_type": "code",
      "source": [
        "print(a)"
      ],
      "metadata": {
        "colab": {
          "base_uri": "https://localhost:8080/"
        },
        "id": "nmdnVjpMjYt6",
        "outputId": "9c92d095-6747-4e66-92fc-252791317f0e"
      },
      "execution_count": null,
      "outputs": [
        {
          "output_type": "stream",
          "name": "stdout",
          "text": [
            "['123', '@']\n"
          ]
        }
      ]
    },
    {
      "cell_type": "code",
      "source": [
        "print(b)"
      ],
      "metadata": {
        "colab": {
          "base_uri": "https://localhost:8080/"
        },
        "id": "PVqK2t1-jwiR",
        "outputId": "3aa10434-6077-4a58-eb79-28f955ae7d7b"
      },
      "execution_count": null,
      "outputs": [
        {
          "output_type": "stream",
          "name": "stdout",
          "text": [
            "['123', '@']@\n"
          ]
        }
      ]
    },
    {
      "cell_type": "code",
      "source": [
        ""
      ],
      "metadata": {
        "id": "z1YFPTdKj3rK"
      },
      "execution_count": null,
      "outputs": []
    }
  ]
}