{
  "nbformat": 4,
  "nbformat_minor": 0,
  "metadata": {
    "colab": {
      "name": "AdjecencyMatrix.ipynb",
      "provenance": [],
      "authorship_tag": "ABX9TyN4Sw/9cw+x8GfEOHikl3Rx",
      "include_colab_link": true
    },
    "kernelspec": {
      "name": "python3",
      "display_name": "Python 3"
    },
    "language_info": {
      "name": "python"
    }
  },
  "cells": [
    {
      "cell_type": "markdown",
      "metadata": {
        "id": "view-in-github",
        "colab_type": "text"
      },
      "source": [
        "<a href=\"https://colab.research.google.com/github/hosigawu/Python-/blob/main/AdjecencyMatrix.ipynb\" target=\"_parent\"><img src=\"https://colab.research.google.com/assets/colab-badge.svg\" alt=\"Open In Colab\"/></a>"
      ]
    },
    {
      "cell_type": "code",
      "execution_count": 1,
      "metadata": {
        "colab": {
          "base_uri": "https://localhost:8080/"
        },
        "id": "WEQS_010XQF3",
        "outputId": "1b063601-f4a2-4cbb-fe5c-add78c9d9dc6"
      },
      "outputs": [
        {
          "output_type": "stream",
          "name": "stdout",
          "text": [
            "   0\n",
            "   1\n",
            "   1\n",
            "   0\n",
            "   0\n",
            "   1\n",
            "   0\n",
            "   1\n",
            "   0\n",
            "   0\n",
            "   1\n",
            "   1\n",
            "   0\n",
            "   1\n",
            "   0\n",
            "   0\n",
            "   0\n",
            "   1\n",
            "   0\n",
            "   0\n",
            "   0\n",
            "   0\n",
            "   0\n",
            "   0\n",
            "   0\n"
          ]
        }
      ],
      "source": [
        "# Adjacency Matrix representation in Python\n",
        "\n",
        "\n",
        "class Graph(object):\n",
        "\n",
        "    # Initialize the matrix\n",
        "    def __init__(self, size):\n",
        "        self.adjMatrix = []\n",
        "        for i in range(size):\n",
        "            self.adjMatrix.append([0 for i in range(size)])\n",
        "        self.size = size\n",
        "\n",
        "    # Add edges\n",
        "    def add_edge(self, v1, v2):\n",
        "        if v1 == v2:\n",
        "            print(\"Same vertex %d and %d\" % (v1, v2))\n",
        "        self.adjMatrix[v1][v2] = 1\n",
        "        self.adjMatrix[v2][v1] = 1\n",
        "\n",
        "    # Remove edges\n",
        "    def remove_edge(self, v1, v2):\n",
        "        if self.adjMatrix[v1][v2] == 0:\n",
        "            print(\"No edge between %d and %d\" % (v1, v2))\n",
        "            return\n",
        "        self.adjMatrix[v1][v2] = 0\n",
        "        self.adjMatrix[v2][v1] = 0\n",
        "\n",
        "    def __len__(self):\n",
        "        return self.size\n",
        "\n",
        "    # Print the matrix\n",
        "    def print_matrix(self):\n",
        "        for row in self.adjMatrix:\n",
        "            for val in row:\n",
        "                print('{:4}'.format(val)),\n",
        "            print\n",
        "\n",
        "\n",
        "def main():\n",
        "    g = Graph(5)\n",
        "    g.add_edge(0, 1)\n",
        "    g.add_edge(0, 2)\n",
        "    g.add_edge(1, 2)\n",
        "    g.add_edge(2, 0)\n",
        "    g.add_edge(2, 3)\n",
        "\n",
        "    g.print_matrix()\n",
        "\n",
        "\n",
        "if __name__ == '__main__':\n",
        "    main()"
      ]
    }
  ]
}