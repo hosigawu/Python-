{
  "nbformat": 4,
  "nbformat_minor": 0,
  "metadata": {
    "colab": {
      "name": "03-用 Python 串接券商 API - 做台股下單.ipynb",
      "provenance": [],
      "collapsed_sections": [],
      "include_colab_link": true
    },
    "kernelspec": {
      "display_name": "Python 3",
      "name": "python3"
    }
  },
  "cells": [
    {
      "cell_type": "markdown",
      "metadata": {
        "id": "view-in-github",
        "colab_type": "text"
      },
      "source": [
        "<a href=\"https://colab.research.google.com/github/hosigawu/Python-/blob/main/03_%E7%94%A8_Python_%E4%B8%B2%E6%8E%A5%E5%88%B8%E5%95%86_API_%E5%81%9A%E5%8F%B0%E8%82%A1%E4%B8%8B%E5%96%AE.ipynb\" target=\"_parent\"><img src=\"https://colab.research.google.com/assets/colab-badge.svg\" alt=\"Open In Colab\"/></a>"
      ]
    },
    {
      "cell_type": "markdown",
      "metadata": {
        "id": "2VbOW_mCZctS"
      },
      "source": [
        "# 03 用 Python 串接券商 API - 做台股下單"
      ]
    },
    {
      "cell_type": "markdown",
      "metadata": {
        "id": "E_JjYkt4afg8"
      },
      "source": [
        "## 安裝 Shioaji 套件\n",
        "官方文件：https://sinotrade.github.io/#installation"
      ]
    },
    {
      "cell_type": "code",
      "metadata": {
        "colab": {
          "base_uri": "https://localhost:8080/"
        },
        "id": "PMUygFmxZOAJ",
        "outputId": "54140232-93b0-41a1-e189-cc4167cdc512"
      },
      "source": [
        "!pip install shioaji"
      ],
      "execution_count": null,
      "outputs": [
        {
          "output_type": "stream",
          "text": [
            "Collecting shioaji\n",
            "\u001b[?25l  Downloading https://files.pythonhosted.org/packages/ea/e6/9c26693910c9896deb6f56d27e04f52f9a1222a71fb9a09573fcb1c766d0/shioaji-0.3.1.dev8-cp36-cp36m-manylinux2010_x86_64.whl (4.9MB)\n",
            "\u001b[K     |████████████████████████████████| 4.9MB 4.0MB/s \n",
            "\u001b[?25hCollecting importlib-metadata==1.6.0\n",
            "  Downloading https://files.pythonhosted.org/packages/ad/e4/891bfcaf868ccabc619942f27940c77a8a4b45fd8367098955bb7e152fb1/importlib_metadata-1.6.0-py2.py3-none-any.whl\n",
            "Collecting pydantic==1.0.0\n",
            "\u001b[?25l  Downloading https://files.pythonhosted.org/packages/a2/2e/552cd8133bedf8a15cd2ede3aa0501762766e6a26b30a4d7ab0a43f63b11/pydantic-1.0-cp36-cp36m-manylinux1_x86_64.whl (5.7MB)\n",
            "\u001b[K     |████████████████████████████████| 5.8MB 15.0MB/s \n",
            "\u001b[?25hCollecting requests==2.22.0\n",
            "\u001b[?25l  Downloading https://files.pythonhosted.org/packages/51/bd/23c926cd341ea6b7dd0b2a00aba99ae0f828be89d72b2190f27c11d4b7fb/requests-2.22.0-py2.py3-none-any.whl (57kB)\n",
            "\u001b[K     |████████████████████████████████| 61kB 7.7MB/s \n",
            "\u001b[?25hCollecting xxhash==2.0.0\n",
            "\u001b[?25l  Downloading https://files.pythonhosted.org/packages/f7/73/826b19f3594756cb1c6c23d2fbd8ca6a77a9cd3b650c9dec5acc85004c38/xxhash-2.0.0-cp36-cp36m-manylinux2010_x86_64.whl (242kB)\n",
            "\u001b[K     |████████████████████████████████| 245kB 53.1MB/s \n",
            "\u001b[?25hCollecting pysolace==0.9.8\n",
            "\u001b[?25l  Downloading https://files.pythonhosted.org/packages/12/14/1e079b501963ee9957cf598c8b3073a12a07cb921f349b3ca41d47e0dfe3/pysolace-0.9.8-cp36-cp36m-manylinux2010_x86_64.whl (18.0MB)\n",
            "\u001b[K     |████████████████████████████████| 18.0MB 241kB/s \n",
            "\u001b[?25hCollecting loguru==0.4.1\n",
            "\u001b[?25l  Downloading https://files.pythonhosted.org/packages/b2/f4/2c8b94025c6e30bdb331c7ee628dc152771845aedff35f0365c2a4dacd42/loguru-0.4.1-py3-none-any.whl (54kB)\n",
            "\u001b[K     |████████████████████████████████| 61kB 8.4MB/s \n",
            "\u001b[?25hCollecting sentry-sdk==0.14.1\n",
            "\u001b[?25l  Downloading https://files.pythonhosted.org/packages/23/5a/f1b0c63e40517b06bc21744a94013ca05de21de2687a59de889ea20a9ebd/sentry_sdk-0.14.1-py2.py3-none-any.whl (93kB)\n",
            "\u001b[K     |████████████████████████████████| 102kB 11.6MB/s \n",
            "\u001b[?25hRequirement already satisfied: zipp>=0.5 in /usr/local/lib/python3.6/dist-packages (from importlib-metadata==1.6.0->shioaji) (3.4.0)\n",
            "Requirement already satisfied: dataclasses>=0.6; python_version < \"3.7\" in /usr/local/lib/python3.6/dist-packages (from pydantic==1.0.0->shioaji) (0.8)\n",
            "Requirement already satisfied: urllib3!=1.25.0,!=1.25.1,<1.26,>=1.21.1 in /usr/local/lib/python3.6/dist-packages (from requests==2.22.0->shioaji) (1.24.3)\n",
            "Requirement already satisfied: chardet<3.1.0,>=3.0.2 in /usr/local/lib/python3.6/dist-packages (from requests==2.22.0->shioaji) (3.0.4)\n",
            "Collecting idna<2.9,>=2.5\n",
            "\u001b[?25l  Downloading https://files.pythonhosted.org/packages/14/2c/cd551d81dbe15200be1cf41cd03869a46fe7226e7450af7a6545bfc474c9/idna-2.8-py2.py3-none-any.whl (58kB)\n",
            "\u001b[K     |████████████████████████████████| 61kB 7.4MB/s \n",
            "\u001b[?25hRequirement already satisfied: certifi>=2017.4.17 in /usr/local/lib/python3.6/dist-packages (from requests==2.22.0->shioaji) (2020.12.5)\n",
            "Collecting orjson==3.3.1\n",
            "\u001b[?25l  Downloading https://files.pythonhosted.org/packages/8f/1a/47bef0b429072936c8b41f6d3c95d2d9eda5f80cbf6c4dcc2ae63b655dac/orjson-3.3.1-cp36-cp36m-manylinux2014_x86_64.whl (208kB)\n",
            "\u001b[K     |████████████████████████████████| 215kB 42.3MB/s \n",
            "\u001b[?25hRequirement already satisfied: msgpack in /usr/local/lib/python3.6/dist-packages (from pysolace==0.9.8->shioaji) (1.0.2)\n",
            "Collecting aiocontextvars>=0.2.0; python_version < \"3.7\"\n",
            "  Downloading https://files.pythonhosted.org/packages/db/c1/7a723e8d988de0a2e623927396e54b6831b68cb80dce468c945b849a9385/aiocontextvars-0.2.2-py2.py3-none-any.whl\n",
            "Collecting contextvars==2.4; python_version < \"3.7\"\n",
            "  Downloading https://files.pythonhosted.org/packages/83/96/55b82d9f13763be9d672622e1b8106c85acb83edd7cc2fa5bc67cd9877e9/contextvars-2.4.tar.gz\n",
            "Collecting immutables>=0.9\n",
            "\u001b[?25l  Downloading https://files.pythonhosted.org/packages/99/e0/ea6fd4697120327d26773b5a84853f897a68e33d3f9376b00a8ff96e4f63/immutables-0.14-cp36-cp36m-manylinux1_x86_64.whl (98kB)\n",
            "\u001b[K     |████████████████████████████████| 102kB 9.7MB/s \n",
            "\u001b[?25hBuilding wheels for collected packages: contextvars\n",
            "  Building wheel for contextvars (setup.py) ... \u001b[?25l\u001b[?25hdone\n",
            "  Created wheel for contextvars: filename=contextvars-2.4-cp36-none-any.whl size=7667 sha256=663ba54966c1f3cff740f870433e514fd216159b9f862af02cb28826838ae8f9\n",
            "  Stored in directory: /root/.cache/pip/wheels/a5/7d/68/1ebae2668bda2228686e3c1cf16f2c2384cea6e9334ad5f6de\n",
            "Successfully built contextvars\n",
            "\u001b[31mERROR: google-colab 1.0.0 has requirement requests~=2.23.0, but you'll have requests 2.22.0 which is incompatible.\u001b[0m\n",
            "\u001b[31mERROR: datascience 0.10.6 has requirement folium==0.2.1, but you'll have folium 0.8.3 which is incompatible.\u001b[0m\n",
            "Installing collected packages: importlib-metadata, pydantic, idna, requests, xxhash, sentry-sdk, orjson, immutables, contextvars, aiocontextvars, loguru, pysolace, shioaji\n",
            "  Found existing installation: importlib-metadata 3.3.0\n",
            "    Uninstalling importlib-metadata-3.3.0:\n",
            "      Successfully uninstalled importlib-metadata-3.3.0\n",
            "  Found existing installation: idna 2.10\n",
            "    Uninstalling idna-2.10:\n",
            "      Successfully uninstalled idna-2.10\n",
            "  Found existing installation: requests 2.23.0\n",
            "    Uninstalling requests-2.23.0:\n",
            "      Successfully uninstalled requests-2.23.0\n",
            "Successfully installed aiocontextvars-0.2.2 contextvars-2.4 idna-2.8 immutables-0.14 importlib-metadata-1.6.0 loguru-0.4.1 orjson-3.3.1 pydantic-1.0 pysolace-0.9.8 requests-2.22.0 sentry-sdk-0.14.1 shioaji-0.3.1.dev8 xxhash-2.0.0\n"
          ],
          "name": "stdout"
        }
      ]
    },
    {
      "cell_type": "markdown",
      "metadata": {
        "id": "T9BH0gCuZhPS"
      },
      "source": [
        "## Initialization 初始化\n",
        "官方文件：https://sinotrade.github.io/quickstart/#initialization"
      ]
    },
    {
      "cell_type": "code",
      "metadata": {
        "colab": {
          "base_uri": "https://localhost:8080/"
        },
        "id": "ss73-doZZgpv",
        "outputId": "ad788960-e365-497f-e78d-dbd4f59f7525"
      },
      "source": [
        "# 匯入 Shioaji 套件\n",
        "import shioaji as sj\n",
        "\n",
        "# 建立 Shioaji api 物件\n",
        "api = sj.Shioaji()\n",
        "\n",
        "# 登入帳號\n",
        "api.login(\n",
        "    person_id=\"YOUR_ID\", \n",
        "    passwd=\"YOUR_PASSWORD\", \n",
        "    contracts_cb=lambda security_type: print(f\"{repr(security_type)} fetch done.\")\n",
        ")\n",
        "\n",
        "\n",
        "# 匯入憑證\n",
        "api.activate_ca(\n",
        "    ca_path=\"/content/drive/MyDrive/Sinopac.pfx\",\n",
        "    ca_passwd=\"CA_PASSWORD\",\n",
        "    person_id=\"YOUR_ID\",\n",
        ")\n",
        "\n"
      ],
      "execution_count": null,
      "outputs": [
        {
          "output_type": "stream",
          "text": [
            "Response Code: 0 | Event Code: 0 | Info: host '203.66.91.161:80', IP 203.66.91.161:80 (host 1 of 1) (host connection attempt 1 of 1) (total connection attempt 1 of 1) | Event: Session up\n",
            "<SecurityType.Index: 'IND'> fetch done.\n",
            "<SecurityType.Future: 'FUT'> fetch done.\n",
            "<SecurityType.Stock: 'STK'> fetch done.\n",
            "<SecurityType.Option: 'OPT'> fetch done.\n"
          ],
          "name": "stdout"
        },
        {
          "output_type": "execute_result",
          "data": {
            "text/plain": [
              "True"
            ]
          },
          "metadata": {
            "tags": []
          },
          "execution_count": 7
        }
      ]
    },
    {
      "cell_type": "markdown",
      "metadata": {
        "id": "lHA7PlMaZpL3"
      },
      "source": [
        "## 定義委託單物件\n",
        "官方文件：https://sinotrade.github.io/tutor/order/Stock/#buy"
      ]
    },
    {
      "cell_type": "code",
      "metadata": {
        "id": "ufsjne6HZpnF"
      },
      "source": [
        "contract = api.Contracts.Stocks[\"2890\"]\n",
        "\n",
        "order = api.Order(price=11.3,\n",
        "          quantity=2, \n",
        "          action=\"Buy\", \n",
        "          price_type=\"LMT\", \n",
        "          order_type=\"ROD\", \n",
        "          order_lot=\"Common\", \n",
        "          account=api.stock_account\n",
        "          )"
      ],
      "execution_count": null,
      "outputs": []
    },
    {
      "cell_type": "markdown",
      "metadata": {
        "id": "sHJSe_E0Z89V"
      },
      "source": [
        "## 下單\n",
        "官方文件：https://sinotrade.github.io/tutor/order/Stock/#place-order_1"
      ]
    },
    {
      "cell_type": "code",
      "metadata": {
        "id": "2ZdQDx464-Eg"
      },
      "source": [
        "trade = api.place_order(contract, order)\n",
        "trade"
      ],
      "execution_count": null,
      "outputs": []
    },
    {
      "cell_type": "markdown",
      "metadata": {
        "id": "XRXnpd8FirEk"
      },
      "source": [
        "## 更新委託單狀態"
      ]
    },
    {
      "cell_type": "code",
      "metadata": {
        "id": "GMuP2Vjp4_qW"
      },
      "source": [
        "api.update_status(api.stock_account)\n",
        "trade"
      ],
      "execution_count": null,
      "outputs": []
    },
    {
      "cell_type": "markdown",
      "metadata": {
        "id": "XkeOyu9kjiaz"
      },
      "source": [
        "## 修改委託單\n",
        "官方文件：https://sinotrade.github.io/tutor/order/Stock/#update-order"
      ]
    },
    {
      "cell_type": "code",
      "metadata": {
        "id": "-4l6kGdX5A84"
      },
      "source": [
        "api.update_order(trade=trade, price=11.4, qty=1)\n",
        "api.update_status(api.stock_account)\n",
        "trade"
      ],
      "execution_count": null,
      "outputs": []
    },
    {
      "cell_type": "markdown",
      "metadata": {
        "id": "Q5NpPTxSaO0p"
      },
      "source": [
        "## 取消委託\n",
        "官方文件：https://sinotrade.github.io/tutor/order/Stock/#cancel-order"
      ]
    },
    {
      "cell_type": "code",
      "metadata": {
        "id": "lQtn-TUi5CEx"
      },
      "source": [
        "api.cancel_order(trade)\n",
        "api.update_status(api.stock_account)\n",
        "trade"
      ],
      "execution_count": null,
      "outputs": []
    }
  ]
}