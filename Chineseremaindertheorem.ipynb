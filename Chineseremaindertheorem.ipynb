{
  "nbformat": 4,
  "nbformat_minor": 0,
  "metadata": {
    "colab": {
      "name": "Chineseremaindertheorem.ipynb",
      "provenance": [],
      "authorship_tag": "ABX9TyPbmdhVy6Psn+Ftj4wbP4ZM",
      "include_colab_link": true
    },
    "kernelspec": {
      "name": "python3",
      "display_name": "Python 3"
    },
    "language_info": {
      "name": "python"
    }
  },
  "cells": [
    {
      "cell_type": "markdown",
      "metadata": {
        "id": "view-in-github",
        "colab_type": "text"
      },
      "source": [
        "<a href=\"https://colab.research.google.com/github/hosigawu/Python-/blob/main/Chineseremaindertheorem.ipynb\" target=\"_parent\"><img src=\"https://colab.research.google.com/assets/colab-badge.svg\" alt=\"Open In Colab\"/></a>"
      ]
    },
    {
      "cell_type": "code",
      "execution_count": 1,
      "metadata": {
        "colab": {
          "base_uri": "https://localhost:8080/"
        },
        "id": "aciiaHj0j7h8",
        "outputId": "8806a779-3304-4cd9-a306-15f4b3f1fa0e"
      },
      "outputs": [
        {
          "output_type": "stream",
          "name": "stdout",
          "text": [
            "1567\n"
          ]
        }
      ],
      "source": [
        "for i in range(100000):\n",
        "  if i%13 == 7 and i%11 == 5 and i%31 == 17:\n",
        "    print(i)\n",
        "    break"
      ]
    }
  ]
}